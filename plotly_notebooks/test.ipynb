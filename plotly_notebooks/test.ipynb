{
 "cells": [
  {
   "cell_type": "code",
   "execution_count": 1,
   "metadata": {},
   "outputs": [
    {
     "name": "stderr",
     "output_type": "stream",
     "text": [
      "C:\\Users\\Ole\\AppData\\Local\\Temp\\ipykernel_9452\\2809655668.py:2: DtypeWarning: Columns (3) have mixed types. Specify dtype option on import or set low_memory=False.\n",
      "  car_accidents = pd.read_csv('../data/crime/Motor_Vehicle_Collisions_-_Crashes.csv')\n"
     ]
    },
    {
     "data": {
      "text/html": [
       "<div>\n",
       "<style scoped>\n",
       "    .dataframe tbody tr th:only-of-type {\n",
       "        vertical-align: middle;\n",
       "    }\n",
       "\n",
       "    .dataframe tbody tr th {\n",
       "        vertical-align: top;\n",
       "    }\n",
       "\n",
       "    .dataframe thead th {\n",
       "        text-align: right;\n",
       "    }\n",
       "</style>\n",
       "<table border=\"1\" class=\"dataframe\">\n",
       "  <thead>\n",
       "    <tr style=\"text-align: right;\">\n",
       "      <th></th>\n",
       "      <th>CRASH DATE</th>\n",
       "      <th>CRASH TIME</th>\n",
       "      <th>BOROUGH</th>\n",
       "      <th>ZIP CODE</th>\n",
       "      <th>LATITUDE</th>\n",
       "      <th>LONGITUDE</th>\n",
       "      <th>LOCATION</th>\n",
       "      <th>ON STREET NAME</th>\n",
       "      <th>CROSS STREET NAME</th>\n",
       "      <th>OFF STREET NAME</th>\n",
       "      <th>...</th>\n",
       "      <th>CONTRIBUTING FACTOR VEHICLE 2</th>\n",
       "      <th>CONTRIBUTING FACTOR VEHICLE 3</th>\n",
       "      <th>CONTRIBUTING FACTOR VEHICLE 4</th>\n",
       "      <th>CONTRIBUTING FACTOR VEHICLE 5</th>\n",
       "      <th>COLLISION_ID</th>\n",
       "      <th>VEHICLE TYPE CODE 1</th>\n",
       "      <th>VEHICLE TYPE CODE 2</th>\n",
       "      <th>VEHICLE TYPE CODE 3</th>\n",
       "      <th>VEHICLE TYPE CODE 4</th>\n",
       "      <th>VEHICLE TYPE CODE 5</th>\n",
       "    </tr>\n",
       "  </thead>\n",
       "  <tbody>\n",
       "    <tr>\n",
       "      <th>0</th>\n",
       "      <td>09/11/2021</td>\n",
       "      <td>2:39</td>\n",
       "      <td>NaN</td>\n",
       "      <td>NaN</td>\n",
       "      <td>NaN</td>\n",
       "      <td>NaN</td>\n",
       "      <td>NaN</td>\n",
       "      <td>WHITESTONE EXPRESSWAY</td>\n",
       "      <td>20 AVENUE</td>\n",
       "      <td>NaN</td>\n",
       "      <td>...</td>\n",
       "      <td>Unspecified</td>\n",
       "      <td>NaN</td>\n",
       "      <td>NaN</td>\n",
       "      <td>NaN</td>\n",
       "      <td>4455765</td>\n",
       "      <td>Sedan</td>\n",
       "      <td>Sedan</td>\n",
       "      <td>NaN</td>\n",
       "      <td>NaN</td>\n",
       "      <td>NaN</td>\n",
       "    </tr>\n",
       "    <tr>\n",
       "      <th>1</th>\n",
       "      <td>03/26/2022</td>\n",
       "      <td>11:45</td>\n",
       "      <td>NaN</td>\n",
       "      <td>NaN</td>\n",
       "      <td>NaN</td>\n",
       "      <td>NaN</td>\n",
       "      <td>NaN</td>\n",
       "      <td>QUEENSBORO BRIDGE UPPER</td>\n",
       "      <td>NaN</td>\n",
       "      <td>NaN</td>\n",
       "      <td>...</td>\n",
       "      <td>NaN</td>\n",
       "      <td>NaN</td>\n",
       "      <td>NaN</td>\n",
       "      <td>NaN</td>\n",
       "      <td>4513547</td>\n",
       "      <td>Sedan</td>\n",
       "      <td>NaN</td>\n",
       "      <td>NaN</td>\n",
       "      <td>NaN</td>\n",
       "      <td>NaN</td>\n",
       "    </tr>\n",
       "    <tr>\n",
       "      <th>2</th>\n",
       "      <td>06/29/2022</td>\n",
       "      <td>6:55</td>\n",
       "      <td>NaN</td>\n",
       "      <td>NaN</td>\n",
       "      <td>NaN</td>\n",
       "      <td>NaN</td>\n",
       "      <td>NaN</td>\n",
       "      <td>THROGS NECK BRIDGE</td>\n",
       "      <td>NaN</td>\n",
       "      <td>NaN</td>\n",
       "      <td>...</td>\n",
       "      <td>Unspecified</td>\n",
       "      <td>NaN</td>\n",
       "      <td>NaN</td>\n",
       "      <td>NaN</td>\n",
       "      <td>4541903</td>\n",
       "      <td>Sedan</td>\n",
       "      <td>Pick-up Truck</td>\n",
       "      <td>NaN</td>\n",
       "      <td>NaN</td>\n",
       "      <td>NaN</td>\n",
       "    </tr>\n",
       "    <tr>\n",
       "      <th>3</th>\n",
       "      <td>09/11/2021</td>\n",
       "      <td>9:35</td>\n",
       "      <td>BROOKLYN</td>\n",
       "      <td>11208.0</td>\n",
       "      <td>40.667202</td>\n",
       "      <td>-73.866500</td>\n",
       "      <td>(40.667202, -73.8665)</td>\n",
       "      <td>NaN</td>\n",
       "      <td>NaN</td>\n",
       "      <td>1211      LORING AVENUE</td>\n",
       "      <td>...</td>\n",
       "      <td>NaN</td>\n",
       "      <td>NaN</td>\n",
       "      <td>NaN</td>\n",
       "      <td>NaN</td>\n",
       "      <td>4456314</td>\n",
       "      <td>Sedan</td>\n",
       "      <td>NaN</td>\n",
       "      <td>NaN</td>\n",
       "      <td>NaN</td>\n",
       "      <td>NaN</td>\n",
       "    </tr>\n",
       "    <tr>\n",
       "      <th>4</th>\n",
       "      <td>12/14/2021</td>\n",
       "      <td>8:13</td>\n",
       "      <td>BROOKLYN</td>\n",
       "      <td>11233.0</td>\n",
       "      <td>40.683304</td>\n",
       "      <td>-73.917274</td>\n",
       "      <td>(40.683304, -73.917274)</td>\n",
       "      <td>SARATOGA AVENUE</td>\n",
       "      <td>DECATUR STREET</td>\n",
       "      <td>NaN</td>\n",
       "      <td>...</td>\n",
       "      <td>NaN</td>\n",
       "      <td>NaN</td>\n",
       "      <td>NaN</td>\n",
       "      <td>NaN</td>\n",
       "      <td>4486609</td>\n",
       "      <td>NaN</td>\n",
       "      <td>NaN</td>\n",
       "      <td>NaN</td>\n",
       "      <td>NaN</td>\n",
       "      <td>NaN</td>\n",
       "    </tr>\n",
       "  </tbody>\n",
       "</table>\n",
       "<p>5 rows × 29 columns</p>\n",
       "</div>"
      ],
      "text/plain": [
       "   CRASH DATE CRASH TIME   BOROUGH ZIP CODE   LATITUDE  LONGITUDE   \n",
       "0  09/11/2021       2:39       NaN      NaN        NaN        NaN  \\\n",
       "1  03/26/2022      11:45       NaN      NaN        NaN        NaN   \n",
       "2  06/29/2022       6:55       NaN      NaN        NaN        NaN   \n",
       "3  09/11/2021       9:35  BROOKLYN  11208.0  40.667202 -73.866500   \n",
       "4  12/14/2021       8:13  BROOKLYN  11233.0  40.683304 -73.917274   \n",
       "\n",
       "                  LOCATION           ON STREET NAME CROSS STREET NAME   \n",
       "0                      NaN    WHITESTONE EXPRESSWAY         20 AVENUE  \\\n",
       "1                      NaN  QUEENSBORO BRIDGE UPPER               NaN   \n",
       "2                      NaN       THROGS NECK BRIDGE               NaN   \n",
       "3    (40.667202, -73.8665)                      NaN               NaN   \n",
       "4  (40.683304, -73.917274)          SARATOGA AVENUE    DECATUR STREET   \n",
       "\n",
       "           OFF STREET NAME  ...  CONTRIBUTING FACTOR VEHICLE 2   \n",
       "0                      NaN  ...                    Unspecified  \\\n",
       "1                      NaN  ...                            NaN   \n",
       "2                      NaN  ...                    Unspecified   \n",
       "3  1211      LORING AVENUE  ...                            NaN   \n",
       "4                      NaN  ...                            NaN   \n",
       "\n",
       "   CONTRIBUTING FACTOR VEHICLE 3  CONTRIBUTING FACTOR VEHICLE 4   \n",
       "0                            NaN                            NaN  \\\n",
       "1                            NaN                            NaN   \n",
       "2                            NaN                            NaN   \n",
       "3                            NaN                            NaN   \n",
       "4                            NaN                            NaN   \n",
       "\n",
       "   CONTRIBUTING FACTOR VEHICLE 5  COLLISION_ID  VEHICLE TYPE CODE 1   \n",
       "0                            NaN       4455765                Sedan  \\\n",
       "1                            NaN       4513547                Sedan   \n",
       "2                            NaN       4541903                Sedan   \n",
       "3                            NaN       4456314                Sedan   \n",
       "4                            NaN       4486609                  NaN   \n",
       "\n",
       "   VEHICLE TYPE CODE 2  VEHICLE TYPE CODE 3 VEHICLE TYPE CODE 4   \n",
       "0                Sedan                  NaN                 NaN  \\\n",
       "1                  NaN                  NaN                 NaN   \n",
       "2        Pick-up Truck                  NaN                 NaN   \n",
       "3                  NaN                  NaN                 NaN   \n",
       "4                  NaN                  NaN                 NaN   \n",
       "\n",
       "  VEHICLE TYPE CODE 5  \n",
       "0                 NaN  \n",
       "1                 NaN  \n",
       "2                 NaN  \n",
       "3                 NaN  \n",
       "4                 NaN  \n",
       "\n",
       "[5 rows x 29 columns]"
      ]
     },
     "execution_count": 1,
     "metadata": {},
     "output_type": "execute_result"
    }
   ],
   "source": [
    "import pandas as pd\n",
    "car_accidents = pd.read_csv('../data/crime/Motor_Vehicle_Collisions_-_Crashes.csv')\n",
    "car_accidents.head()"
   ]
  },
  {
   "cell_type": "code",
   "execution_count": 3,
   "metadata": {},
   "outputs": [
    {
     "name": "stdout",
     "output_type": "stream",
     "text": [
      "1998478\n"
     ]
    }
   ],
   "source": [
    "print(len(car_accidents))  "
   ]
  },
  {
   "cell_type": "code",
   "execution_count": 4,
   "metadata": {},
   "outputs": [
    {
     "name": "stdout",
     "output_type": "stream",
     "text": [
      "103823\n"
     ]
    }
   ],
   "source": [
    "df_filtered_2022 = car_accidents[car_accidents['CRASH DATE'].str.contains('2022')]\n",
    "print(len(df_filtered_2022))"
   ]
  },
  {
   "cell_type": "code",
   "execution_count": 7,
   "metadata": {},
   "outputs": [],
   "source": [
    "df_filtered_2022 = car_accidents[car_accidents['CRASH DATE'].str.contains('2022')]\n",
    "df_filtered_2022= df_filtered_2022.rename(columns={'LONGITUDE': 'Longitude'})\n",
    "df_filtered_2022 = df_filtered_2022.rename(columns={'LATITUDE': 'Latitude'})\n",
    "df_filtered_2022.to_csv('../data/crime/car_accidents_2022.csv', index=False)"
   ]
  },
  {
   "cell_type": "code",
   "execution_count": 2,
   "metadata": {},
   "outputs": [],
   "source": [
    "import pandas as pd\n",
    "\n",
    "df_measures_2022 = pd.read_excel(\n",
    "    io='../data/measures_2022.xlsx',\n",
    "    sheet_name ='CHP_all_data'\n",
    ")\n",
    "df_measures_2018 = pd.read_excel(\n",
    "    io='../data/measures_2018.xlsx',\n",
    "    sheet_name ='CHP_all_data'\n",
    ")\n",
    "df_measures_2015 = pd.read_excel(\n",
    "    io='../data/measures_2015.xlsx',\n",
    "    sheet_name ='CHP_all_data'\n",
    ")\n",
    "\n",
    "df_stacked_2022 = df_measures_2022\n",
    "df_stacked_2018 = df_measures_2018\n",
    "df_stacked_2015 = df_measures_2015\n",
    "\n",
    "df_stacked_2022 = df_stacked_2022[[\"Borough\",\"Age 0 - 17\",\"Age 18 - 24\",\"Age 25 - 44\",\"Age 45 - 64\",\"Age 65 plus\"]]\n",
    "#df_stacked_2022 = df_stacked_2022.round(decimals=2)\n",
    "df_stacked_2022 = pd.melt(df_stacked_2022, id_vars=[\"Borough\"], var_name=\"Range\", value_name=\"Percent\", \n",
    "                            value_vars=[\"Age 0 - 17\",\"Age 18 - 24\",\"Age 25 - 44\",\"Age 45 - 64\",\"Age 65 plus\"])\n",
    "\n",
    "df_stacked_2018 = df_stacked_2018[[\"Borough\",\"Age 0 - 17\",\"Age 18 - 24\",\"Age 25 - 44\",\"Age 45 - 64\",\"Age 65 plus\"]]\n",
    "#df_stacked_2018 = df_stacked_2018.round(decimals=2)\n",
    "df_stacked_2018 = pd.melt(df_stacked_2018, id_vars=[\"Borough\"], var_name=\"Range\", value_name=\"Percent\", \n",
    "                            value_vars=[\"Age 0 - 17\",\"Age 18 - 24\",\"Age 25 - 44\",\"Age 45 - 64\",\"Age 65 plus\"])\n",
    "\n",
    "df_stacked_2015 = df_stacked_2015[[\"Borough\",\"Age 0 - 17\",\"Age 18 - 24\",\"Age 25 - 44\",\"Age 45 - 64\",\"Age 65 plus\"]]\n",
    "#df_stacked_2015 = df_stacked_2015.round(decimals=2)\n",
    "df_stacked_2015 = pd.melt(df_stacked_2015, id_vars=[\"Borough\"], var_name=\"Range\", value_name=\"Percent\", \n",
    "                            value_vars=[\"Age 0 - 17\",\"Age 18 - 24\",\"Age 25 - 44\",\"Age 45 - 64\",\"Age 65 plus\"])"
   ]
  },
  {
   "cell_type": "code",
   "execution_count": 3,
   "metadata": {},
   "outputs": [
    {
     "data": {
      "text/html": [
       "<div>\n",
       "<style scoped>\n",
       "    .dataframe tbody tr th:only-of-type {\n",
       "        vertical-align: middle;\n",
       "    }\n",
       "\n",
       "    .dataframe tbody tr th {\n",
       "        vertical-align: top;\n",
       "    }\n",
       "\n",
       "    .dataframe thead th {\n",
       "        text-align: right;\n",
       "    }\n",
       "</style>\n",
       "<table border=\"1\" class=\"dataframe\">\n",
       "  <thead>\n",
       "    <tr style=\"text-align: right;\">\n",
       "      <th></th>\n",
       "      <th>ID</th>\n",
       "      <th>Borough</th>\n",
       "      <th>Overall_Pop</th>\n",
       "      <th>Race_White</th>\n",
       "      <th>Race_Black</th>\n",
       "      <th>Race_Asian</th>\n",
       "      <th>Race_Latino</th>\n",
       "      <th>Race_Other</th>\n",
       "      <th>Age 0 - 17</th>\n",
       "      <th>Age 18 - 24</th>\n",
       "      <th>...</th>\n",
       "      <th>lower_95CL.29</th>\n",
       "      <th>upper_95CL.29</th>\n",
       "      <th>NYC_comparison.3</th>\n",
       "      <th>Premature_Mort_Number</th>\n",
       "      <th>Premature_Mort_Rate</th>\n",
       "      <th>NYC_Comparison.32</th>\n",
       "      <th>Life_Expectancy</th>\n",
       "      <th>lower_95CL.30</th>\n",
       "      <th>upper_95CL.30</th>\n",
       "      <th>NYC_Comparison.33</th>\n",
       "    </tr>\n",
       "  </thead>\n",
       "  <tbody>\n",
       "    <tr>\n",
       "      <th>0</th>\n",
       "      <td>0</td>\n",
       "      <td>NYC</td>\n",
       "      <td>8467513</td>\n",
       "      <td>31.731112</td>\n",
       "      <td>21.815048</td>\n",
       "      <td>15.203579</td>\n",
       "      <td>29.100871</td>\n",
       "      <td>2.149391</td>\n",
       "      <td>20.513469</td>\n",
       "      <td>8.140742</td>\n",
       "      <td>...</td>\n",
       "      <td>3.9</td>\n",
       "      <td>4.3</td>\n",
       "      <td>NaN</td>\n",
       "      <td>65534</td>\n",
       "      <td>166.6</td>\n",
       "      <td>NaN</td>\n",
       "      <td>81.323004</td>\n",
       "      <td>81.219101</td>\n",
       "      <td>81.426906</td>\n",
       "      <td>NaN</td>\n",
       "    </tr>\n",
       "    <tr>\n",
       "      <th>1</th>\n",
       "      <td>1</td>\n",
       "      <td>Manhattan</td>\n",
       "      <td>1576876</td>\n",
       "      <td>45.814129</td>\n",
       "      <td>12.801007</td>\n",
       "      <td>12.690154</td>\n",
       "      <td>26.362377</td>\n",
       "      <td>2.332333</td>\n",
       "      <td>14.582187</td>\n",
       "      <td>8.448667</td>\n",
       "      <td>...</td>\n",
       "      <td>2.3</td>\n",
       "      <td>3.2</td>\n",
       "      <td>NaN</td>\n",
       "      <td>10221</td>\n",
       "      <td>136.5</td>\n",
       "      <td>NaN</td>\n",
       "      <td>84.147605</td>\n",
       "      <td>84.058556</td>\n",
       "      <td>84.236653</td>\n",
       "      <td>NaN</td>\n",
       "    </tr>\n",
       "    <tr>\n",
       "      <th>2</th>\n",
       "      <td>2</td>\n",
       "      <td>Bronx</td>\n",
       "      <td>1424948</td>\n",
       "      <td>8.956958</td>\n",
       "      <td>29.073763</td>\n",
       "      <td>4.228716</td>\n",
       "      <td>56.431673</td>\n",
       "      <td>1.308890</td>\n",
       "      <td>24.381872</td>\n",
       "      <td>9.561331</td>\n",
       "      <td>...</td>\n",
       "      <td>4.6</td>\n",
       "      <td>5.8</td>\n",
       "      <td>NaN</td>\n",
       "      <td>15319</td>\n",
       "      <td>234.8</td>\n",
       "      <td>NaN</td>\n",
       "      <td>80.098016</td>\n",
       "      <td>80.000480</td>\n",
       "      <td>80.195552</td>\n",
       "      <td>NaN</td>\n",
       "    </tr>\n",
       "    <tr>\n",
       "      <th>3</th>\n",
       "      <td>3</td>\n",
       "      <td>Brooklyn</td>\n",
       "      <td>2641052</td>\n",
       "      <td>37.002111</td>\n",
       "      <td>29.186438</td>\n",
       "      <td>12.767185</td>\n",
       "      <td>18.810572</td>\n",
       "      <td>2.233693</td>\n",
       "      <td>22.428032</td>\n",
       "      <td>7.816999</td>\n",
       "      <td>...</td>\n",
       "      <td>3.2</td>\n",
       "      <td>3.9</td>\n",
       "      <td>NaN</td>\n",
       "      <td>20851</td>\n",
       "      <td>179.2</td>\n",
       "      <td>NaN</td>\n",
       "      <td>82.068269</td>\n",
       "      <td>81.997524</td>\n",
       "      <td>82.139013</td>\n",
       "      <td>NaN</td>\n",
       "    </tr>\n",
       "    <tr>\n",
       "      <th>4</th>\n",
       "      <td>4</td>\n",
       "      <td>Queens</td>\n",
       "      <td>2331143</td>\n",
       "      <td>24.539550</td>\n",
       "      <td>17.785438</td>\n",
       "      <td>27.035278</td>\n",
       "      <td>28.115778</td>\n",
       "      <td>2.523955</td>\n",
       "      <td>19.767813</td>\n",
       "      <td>7.394784</td>\n",
       "      <td>...</td>\n",
       "      <td>3.5</td>\n",
       "      <td>4.4</td>\n",
       "      <td>NaN</td>\n",
       "      <td>14807</td>\n",
       "      <td>132.5</td>\n",
       "      <td>NaN</td>\n",
       "      <td>83.433416</td>\n",
       "      <td>83.360854</td>\n",
       "      <td>83.505978</td>\n",
       "      <td>NaN</td>\n",
       "    </tr>\n",
       "  </tbody>\n",
       "</table>\n",
       "<p>5 rows × 195 columns</p>\n",
       "</div>"
      ],
      "text/plain": [
       "   ID    Borough  Overall_Pop  Race_White  Race_Black  Race_Asian   \n",
       "0   0        NYC      8467513   31.731112   21.815048   15.203579  \\\n",
       "1   1  Manhattan      1576876   45.814129   12.801007   12.690154   \n",
       "2   2      Bronx      1424948    8.956958   29.073763    4.228716   \n",
       "3   3   Brooklyn      2641052   37.002111   29.186438   12.767185   \n",
       "4   4     Queens      2331143   24.539550   17.785438   27.035278   \n",
       "\n",
       "   Race_Latino  Race_Other  Age 0 - 17  Age 18 - 24  ...  lower_95CL.29   \n",
       "0    29.100871    2.149391   20.513469     8.140742  ...            3.9  \\\n",
       "1    26.362377    2.332333   14.582187     8.448667  ...            2.3   \n",
       "2    56.431673    1.308890   24.381872     9.561331  ...            4.6   \n",
       "3    18.810572    2.233693   22.428032     7.816999  ...            3.2   \n",
       "4    28.115778    2.523955   19.767813     7.394784  ...            3.5   \n",
       "\n",
       "   upper_95CL.29  NYC_comparison.3  Premature_Mort_Number   \n",
       "0            4.3               NaN                  65534  \\\n",
       "1            3.2               NaN                  10221   \n",
       "2            5.8               NaN                  15319   \n",
       "3            3.9               NaN                  20851   \n",
       "4            4.4               NaN                  14807   \n",
       "\n",
       "   Premature_Mort_Rate  NYC_Comparison.32  Life_Expectancy  lower_95CL.30   \n",
       "0                166.6                NaN        81.323004      81.219101  \\\n",
       "1                136.5                NaN        84.147605      84.058556   \n",
       "2                234.8                NaN        80.098016      80.000480   \n",
       "3                179.2                NaN        82.068269      81.997524   \n",
       "4                132.5                NaN        83.433416      83.360854   \n",
       "\n",
       "   upper_95CL.30  NYC_Comparison.33  \n",
       "0      81.426906                NaN  \n",
       "1      84.236653                NaN  \n",
       "2      80.195552                NaN  \n",
       "3      82.139013                NaN  \n",
       "4      83.505978                NaN  \n",
       "\n",
       "[5 rows x 195 columns]"
      ]
     },
     "execution_count": 3,
     "metadata": {},
     "output_type": "execute_result"
    }
   ],
   "source": [
    "df_measures_2022.head()"
   ]
  },
  {
   "cell_type": "code",
   "execution_count": null,
   "metadata": {},
   "outputs": [],
   "source": []
  },
  {
   "cell_type": "code",
   "execution_count": 9,
   "metadata": {},
   "outputs": [
    {
     "name": "stdout",
     "output_type": "stream",
     "text": [
      "ID\n",
      "Borough\n",
      "Overall_Pop\n",
      "Race_White\n",
      "Race_Black\n",
      "Race_Asian\n",
      "Race_Latino\n",
      "Race_Other\n",
      "Age 0 - 17\n",
      "Age 18 - 24\n",
      "Age 25 - 44\n",
      "Age 45 - 64\n",
      "Age 65 plus\n",
      "Ltd_Eng_Prof\n",
      "lower_95CL\n",
      "upper_95CL\n",
      "NYC_Comparison\n",
      "Born_Outside_US\n",
      "lower_95CL.1\n",
      "upper_95CL.1\n",
      "NYC_Comparison.1\n",
      "School_Absent\n",
      "NYC_comparison\n",
      "On_Time_HS_Grad\n",
      "NYC_Comparison.2\n",
      "Edu_Did_Not_Complete_HS\n",
      "lower_95CL.2\n",
      "upper_95CL.2\n",
      "NYC_Comparison.3\n",
      "Edu_HSGrad_Some_College\n",
      "lower_95CL.3\n",
      "upper_95CL.3\n",
      "NYC_Comparison.4\n",
      "Edu_College_Degree_And_Higher\n",
      "lower_95CL.4\n",
      "upper_95CL.4\n",
      "NYC_Comparison.5\n",
      "Poverty\n",
      "Unemployment\n",
      "lower_95CL.5\n",
      "upper_95CL.5\n",
      "NYC_Comparison.6\n",
      "Rent_Burden\n",
      "lower_95CL.6\n",
      "upper_95CL.6\n",
      "NYC_Comparison.7\n",
      "Avertable_Death\n",
      "Assault_Hosp\n",
      "lower_95CL.7\n",
      "upper_95CL.7\n",
      "NYC_Comparison.8\n",
      "Jail_Incarceration\n",
      "Helpful_Neighbor\n",
      "lower_95CL.8\n",
      "upper_95CL.8\n",
      "NYC_Comparison.9\n",
      "NYC_Comparison_Pvalues\n",
      "Homes_No_Defects\n",
      "Homes_No_Defects_reliability_note\n",
      "Homes_Roach\n",
      "Homes_Roach_reliability_note\n",
      "lower_95CL.9\n",
      "upper_95CL.9\n",
      "NYC_Comparison.10\n",
      "Homes_AC\n",
      "Homes_AC_reliability_note \n",
      "lower_95CL.10\n",
      "upper_95CL.10\n",
      "NYC_Comparison.11\n",
      "Air Pollution\n",
      "Bike Coverage\n",
      "NYC_comparison.1\n",
      "Pedestrian_Hosp\n",
      "lower_95CL.11\n",
      "upper_95CL.11\n",
      "NYC_Comparison.12\n",
      "Ratio_Bodega_Supermarket\n",
      "Farmers_Markets\n",
      "Late_No_Prenatal\n",
      "NYC_Comparison.13\n",
      "Preterm_Births\n",
      "NYC_Comparison.14\n",
      "Teen_Births\n",
      "Teen_Births_reliability_note\n",
      "NYC_Comparison.15\n",
      "Child_Obesity\n",
      "lower_95CL.12\n",
      "upper_95CL.12\n",
      "NYC_Comparison.16\n",
      "Child_Asthma\n",
      "Avoidable_Child_Hosp\n",
      "lower_95CL.13\n",
      "upper_95CL.13\n",
      "NYC_Comparison.17\n",
      "Self_Rep_Health\n",
      "Self_Rep_Health_reliability_note\n",
      "lower_95CL.14\n",
      "upper_95CL.14\n",
      "NYC_Comparison.18\n",
      "NYC_Comparison_Pvalues.1\n",
      "Physical_Activity\n",
      "Physical_Activity_reliability_note\n",
      "lower_95CL.15\n",
      "upper_95CL.15\n",
      "NYC_Comparison.19\n",
      "NYC_Comparison_Pvalues.2\n",
      "Sugary_Drink\n",
      "Sugary_Drink_reliability_note\n",
      "lower_95CL.16\n",
      "upper_95CL.16\n",
      "NYC_Comparison.20\n",
      "NYC_Comparison_Pvalues.3\n",
      "Fruit_Veg\n",
      "Fruit_Veg_reliability_note\n",
      "lower_95CL.17\n",
      "upper_95CL.17\n",
      "NYC_Comparison.21\n",
      "NYC_Comparison_Pvalues.4\n",
      "Smoking\n",
      "Smoking_reliability_note\n",
      "lower_95CL.18\n",
      "upper_95CL.18\n",
      "NYC_Comparison.22\n",
      "NYC_Comparison_Pvalues.5\n",
      "Uninsured\n",
      "Uninsured_reliability_note\n",
      "lower_95CL.19\n",
      "upper_95CL.19\n",
      "NYC_Comparison.23\n",
      "NYC_Comparison_Pvalues.6\n",
      "Unmet_Med_Care\n",
      "Unmet_Med_Care_reliability_note\n",
      "lower_95CL.20\n",
      "upper_95CL.20\n",
      "NYC_Comparison.24\n",
      "NYC_Comparison_Pvalues.7\n",
      "Avoidable_Adult_Hosp\n",
      "lower_95CL.21\n",
      "upper_95CL.21\n",
      "NYC_Comparison.25\n",
      "Falls_Hosp\n",
      "lower_95CL.22\n",
      "upper_95CL.22\n",
      "NYC_Comparison.26\n",
      "HPV_Vaccination_All\n",
      "HPV_Vaccincation_note\n",
      "Flu_Vaccination\n",
      "Flu_Vaccination_reliability_note\n",
      "lower_95CL.23\n",
      "upper_95CL.23\n",
      "NYC_Comparison.27\n",
      "NYC_Comparison_Pvalues.8\n",
      "Obesity\n",
      "Obesity_reliability_note\n",
      "lower_95CL.24\n",
      "upper_95CL.24\n",
      "NYC_Comparison.28\n",
      "NYC_Comparison_Pvalues.9\n",
      "Diabetes\n",
      "Diabetes_reliability_note\n",
      "lower_95CL.25\n",
      "upper_95CL.25\n",
      "NYC_Comparison.29\n",
      "NYC_Comparison_Pvalues.10\n",
      "Hypertension\n",
      "Hypertension_reliability_note\n",
      "lower_95CL.26\n",
      "upper_95CL.26\n",
      "NYC_Comparison.30\n",
      "NYC_Comparison_Pvalues.11\n",
      "HIV_Diagnoses\n",
      "HIV_Diagnoses_reliability_note\n",
      "HepC_Reports\n",
      "Binge_Drink\n",
      "Binge_Drink_reliability_note\n",
      "lower_95CL.27\n",
      "upper_95CL.27\n",
      "NYC_Comparison.31\n",
      "NYC_Comparison_Pvalues.12\n",
      "Psych_Hosp\n",
      "lower_95CL.28\n",
      "upper_95CL.28\n",
      "NYC_comparison.2\n",
      "Infant_Mort\n",
      "Infant_Mort_reliability_note\n",
      "lower_95CL.29\n",
      "upper_95CL.29\n",
      "NYC_comparison.3\n",
      "Premature_Mort_Number\n",
      "Premature_Mort_Rate\n",
      "NYC_Comparison.32\n",
      "Life_Expectancy\n",
      "lower_95CL.30\n",
      "upper_95CL.30\n",
      "NYC_Comparison.33\n"
     ]
    }
   ],
   "source": [
    "for col in df_measures_2022.columns:\n",
    "    print(col)\n"
   ]
  },
  {
   "cell_type": "code",
   "execution_count": 5,
   "metadata": {},
   "outputs": [
    {
     "data": {
      "text/html": [
       "<div>\n",
       "<style scoped>\n",
       "    .dataframe tbody tr th:only-of-type {\n",
       "        vertical-align: middle;\n",
       "    }\n",
       "\n",
       "    .dataframe tbody tr th {\n",
       "        vertical-align: top;\n",
       "    }\n",
       "\n",
       "    .dataframe thead th {\n",
       "        text-align: right;\n",
       "    }\n",
       "</style>\n",
       "<table border=\"1\" class=\"dataframe\">\n",
       "  <thead>\n",
       "    <tr style=\"text-align: right;\">\n",
       "      <th></th>\n",
       "      <th>Borough</th>\n",
       "      <th>Range</th>\n",
       "      <th>Percent</th>\n",
       "    </tr>\n",
       "  </thead>\n",
       "  <tbody>\n",
       "    <tr>\n",
       "      <th>0</th>\n",
       "      <td>NYC</td>\n",
       "      <td>Age 0 - 17</td>\n",
       "      <td>21</td>\n",
       "    </tr>\n",
       "    <tr>\n",
       "      <th>1</th>\n",
       "      <td>Manhattan</td>\n",
       "      <td>Age 0 - 17</td>\n",
       "      <td>15</td>\n",
       "    </tr>\n",
       "    <tr>\n",
       "      <th>2</th>\n",
       "      <td>Bronx</td>\n",
       "      <td>Age 0 - 17</td>\n",
       "      <td>26</td>\n",
       "    </tr>\n",
       "    <tr>\n",
       "      <th>3</th>\n",
       "      <td>Brooklyn</td>\n",
       "      <td>Age 0 - 17</td>\n",
       "      <td>23</td>\n",
       "    </tr>\n",
       "    <tr>\n",
       "      <th>4</th>\n",
       "      <td>Queens</td>\n",
       "      <td>Age 0 - 17</td>\n",
       "      <td>20</td>\n",
       "    </tr>\n",
       "    <tr>\n",
       "      <th>5</th>\n",
       "      <td>Staten Island</td>\n",
       "      <td>Age 0 - 17</td>\n",
       "      <td>22</td>\n",
       "    </tr>\n",
       "    <tr>\n",
       "      <th>6</th>\n",
       "      <td>NYC</td>\n",
       "      <td>Age 18 - 24</td>\n",
       "      <td>10</td>\n",
       "    </tr>\n",
       "    <tr>\n",
       "      <th>7</th>\n",
       "      <td>Manhattan</td>\n",
       "      <td>Age 18 - 24</td>\n",
       "      <td>10</td>\n",
       "    </tr>\n",
       "    <tr>\n",
       "      <th>8</th>\n",
       "      <td>Bronx</td>\n",
       "      <td>Age 18 - 24</td>\n",
       "      <td>12</td>\n",
       "    </tr>\n",
       "    <tr>\n",
       "      <th>9</th>\n",
       "      <td>Brooklyn</td>\n",
       "      <td>Age 18 - 24</td>\n",
       "      <td>10</td>\n",
       "    </tr>\n",
       "    <tr>\n",
       "      <th>10</th>\n",
       "      <td>Queens</td>\n",
       "      <td>Age 18 - 24</td>\n",
       "      <td>9</td>\n",
       "    </tr>\n",
       "    <tr>\n",
       "      <th>11</th>\n",
       "      <td>Staten Island</td>\n",
       "      <td>Age 18 - 24</td>\n",
       "      <td>9</td>\n",
       "    </tr>\n",
       "    <tr>\n",
       "      <th>12</th>\n",
       "      <td>NYC</td>\n",
       "      <td>Age 25 - 44</td>\n",
       "      <td>32</td>\n",
       "    </tr>\n",
       "    <tr>\n",
       "      <th>13</th>\n",
       "      <td>Manhattan</td>\n",
       "      <td>Age 25 - 44</td>\n",
       "      <td>38</td>\n",
       "    </tr>\n",
       "    <tr>\n",
       "      <th>14</th>\n",
       "      <td>Bronx</td>\n",
       "      <td>Age 25 - 44</td>\n",
       "      <td>28</td>\n",
       "    </tr>\n",
       "    <tr>\n",
       "      <th>15</th>\n",
       "      <td>Brooklyn</td>\n",
       "      <td>Age 25 - 44</td>\n",
       "      <td>32</td>\n",
       "    </tr>\n",
       "    <tr>\n",
       "      <th>16</th>\n",
       "      <td>Queens</td>\n",
       "      <td>Age 25 - 44</td>\n",
       "      <td>31</td>\n",
       "    </tr>\n",
       "    <tr>\n",
       "      <th>17</th>\n",
       "      <td>Staten Island</td>\n",
       "      <td>Age 25 - 44</td>\n",
       "      <td>26</td>\n",
       "    </tr>\n",
       "    <tr>\n",
       "      <th>18</th>\n",
       "      <td>NYC</td>\n",
       "      <td>Age 45 - 64</td>\n",
       "      <td>25</td>\n",
       "    </tr>\n",
       "    <tr>\n",
       "      <th>19</th>\n",
       "      <td>Manhattan</td>\n",
       "      <td>Age 45 - 64</td>\n",
       "      <td>24</td>\n",
       "    </tr>\n",
       "  </tbody>\n",
       "</table>\n",
       "</div>"
      ],
      "text/plain": [
       "          Borough        Range  Percent\n",
       "0             NYC   Age 0 - 17       21\n",
       "1       Manhattan   Age 0 - 17       15\n",
       "2           Bronx   Age 0 - 17       26\n",
       "3        Brooklyn   Age 0 - 17       23\n",
       "4          Queens   Age 0 - 17       20\n",
       "5   Staten Island   Age 0 - 17       22\n",
       "6             NYC  Age 18 - 24       10\n",
       "7       Manhattan  Age 18 - 24       10\n",
       "8           Bronx  Age 18 - 24       12\n",
       "9        Brooklyn  Age 18 - 24       10\n",
       "10         Queens  Age 18 - 24        9\n",
       "11  Staten Island  Age 18 - 24        9\n",
       "12            NYC  Age 25 - 44       32\n",
       "13      Manhattan  Age 25 - 44       38\n",
       "14          Bronx  Age 25 - 44       28\n",
       "15       Brooklyn  Age 25 - 44       32\n",
       "16         Queens  Age 25 - 44       31\n",
       "17  Staten Island  Age 25 - 44       26\n",
       "18            NYC  Age 45 - 64       25\n",
       "19      Manhattan  Age 45 - 64       24"
      ]
     },
     "execution_count": 5,
     "metadata": {},
     "output_type": "execute_result"
    }
   ],
   "source": [
    "df_stacked_2015.head(20)"
   ]
  },
  {
   "cell_type": "code",
   "execution_count": 1,
   "metadata": {},
   "outputs": [
    {
     "name": "stderr",
     "output_type": "stream",
     "text": [
      "C:\\Users\\Ole\\AppData\\Local\\Temp\\ipykernel_10896\\2770626325.py:13: UserWarning: Geometry is in a geographic CRS. Results from 'centroid' are likely incorrect. Use 'GeoSeries.to_crs()' to re-project geometries to a projected CRS before this operation.\n",
      "\n",
      "  gdf['Longitude'] = gdf['geometry'].centroid.x\n",
      "C:\\Users\\Ole\\AppData\\Local\\Temp\\ipykernel_10896\\2770626325.py:14: UserWarning: Geometry is in a geographic CRS. Results from 'centroid' are likely incorrect. Use 'GeoSeries.to_crs()' to re-project geometries to a projected CRS before this operation.\n",
      "\n",
      "  gdf['Latitude'] = gdf['geometry'].centroid.y\n"
     ]
    },
    {
     "data": {
      "text/html": [
       "<div>\n",
       "<style scoped>\n",
       "    .dataframe tbody tr th:only-of-type {\n",
       "        vertical-align: middle;\n",
       "    }\n",
       "\n",
       "    .dataframe tbody tr th {\n",
       "        vertical-align: top;\n",
       "    }\n",
       "\n",
       "    .dataframe thead th {\n",
       "        text-align: right;\n",
       "    }\n",
       "</style>\n",
       "<table border=\"1\" class=\"dataframe\">\n",
       "  <thead>\n",
       "    <tr style=\"text-align: right;\">\n",
       "      <th></th>\n",
       "      <th>Shape_Leng</th>\n",
       "      <th>Shape_Area</th>\n",
       "      <th>geometry</th>\n",
       "      <th>Longitude</th>\n",
       "      <th>Latitude</th>\n",
       "    </tr>\n",
       "    <tr>\n",
       "      <th>BoroCD</th>\n",
       "      <th></th>\n",
       "      <th></th>\n",
       "      <th></th>\n",
       "      <th></th>\n",
       "      <th></th>\n",
       "    </tr>\n",
       "  </thead>\n",
       "  <tbody>\n",
       "    <tr>\n",
       "      <th>308</th>\n",
       "      <td>38232.886649</td>\n",
       "      <td>4.560379e+07</td>\n",
       "      <td>MULTIPOLYGON (((-73.95829 40.67983, -73.95596 ...</td>\n",
       "      <td>-73.946599</td>\n",
       "      <td>40.674355</td>\n",
       "    </tr>\n",
       "    <tr>\n",
       "      <th>101</th>\n",
       "      <td>69054.447232</td>\n",
       "      <td>4.168665e+07</td>\n",
       "      <td>MULTIPOLYGON (((-74.04388 40.69019, -74.04351 ...</td>\n",
       "      <td>-74.011999</td>\n",
       "      <td>40.707381</td>\n",
       "    </tr>\n",
       "    <tr>\n",
       "      <th>414</th>\n",
       "      <td>210918.175118</td>\n",
       "      <td>1.955766e+08</td>\n",
       "      <td>MULTIPOLYGON (((-73.90972 40.56529, -73.90973 ...</td>\n",
       "      <td>-73.810257</td>\n",
       "      <td>40.589119</td>\n",
       "    </tr>\n",
       "    <tr>\n",
       "      <th>204</th>\n",
       "      <td>31358.450463</td>\n",
       "      <td>5.552214e+07</td>\n",
       "      <td>MULTIPOLYGON (((-73.90269 40.84458, -73.90271 ...</td>\n",
       "      <td>-73.920796</td>\n",
       "      <td>40.833808</td>\n",
       "    </tr>\n",
       "    <tr>\n",
       "      <th>501</th>\n",
       "      <td>153751.224394</td>\n",
       "      <td>3.772325e+08</td>\n",
       "      <td>MULTIPOLYGON (((-74.15946 40.64145, -74.15975 ...</td>\n",
       "      <td>-74.120495</td>\n",
       "      <td>40.626639</td>\n",
       "    </tr>\n",
       "  </tbody>\n",
       "</table>\n",
       "</div>"
      ],
      "text/plain": [
       "           Shape_Leng    Shape_Area   \n",
       "BoroCD                                \n",
       "308      38232.886649  4.560379e+07  \\\n",
       "101      69054.447232  4.168665e+07   \n",
       "414     210918.175118  1.955766e+08   \n",
       "204      31358.450463  5.552214e+07   \n",
       "501     153751.224394  3.772325e+08   \n",
       "\n",
       "                                                 geometry  Longitude   \n",
       "BoroCD                                                                 \n",
       "308     MULTIPOLYGON (((-73.95829 40.67983, -73.95596 ... -73.946599  \\\n",
       "101     MULTIPOLYGON (((-74.04388 40.69019, -74.04351 ... -74.011999   \n",
       "414     MULTIPOLYGON (((-73.90972 40.56529, -73.90973 ... -73.810257   \n",
       "204     MULTIPOLYGON (((-73.90269 40.84458, -73.90271 ... -73.920796   \n",
       "501     MULTIPOLYGON (((-74.15946 40.64145, -74.15975 ... -74.120495   \n",
       "\n",
       "         Latitude  \n",
       "BoroCD             \n",
       "308     40.674355  \n",
       "101     40.707381  \n",
       "414     40.589119  \n",
       "204     40.833808  \n",
       "501     40.626639  "
      ]
     },
     "execution_count": 1,
     "metadata": {},
     "output_type": "execute_result"
    }
   ],
   "source": [
    "import geopandas as gpd\n",
    "import pandas as pd\n",
    "from shapely.geometry import shape\n",
    "from shapely import wkt\n",
    "nyc_cd = pd.read_csv(\"../data/reference_data/nycd.csv\")\n",
    "#pd_by_cm = air_quality[(air_quality['Geo Type Name'] == 'UHF42') & (air_quality['Time Period'] == time_period)]\n",
    "#pd_by_cm = pd.merge(air_quality, nyc_cd, left_on='Geo Join ID', right_on='BoroCD')\n",
    "#pd_by_cm['Name'].unique()\n",
    "nyc_cd['geometry'] = nyc_cd['the_geom'].apply(wkt.loads)\n",
    "gdf = gpd.GeoDataFrame(nyc_cd, crs='epsg:4326')\n",
    "gdf.drop('the_geom', axis=1, inplace=True)\n",
    "gdf = gdf.set_index('BoroCD')\n",
    "gdf['Longitude'] = gdf['geometry'].centroid.x\n",
    "gdf['Latitude'] = gdf['geometry'].centroid.y\n",
    "gdf.head()"
   ]
  },
  {
   "cell_type": "code",
   "execution_count": 8,
   "metadata": {},
   "outputs": [
    {
     "name": "stdout",
     "output_type": "stream",
     "text": [
      "BoroCD\n",
      "308   -73.946599\n",
      "101   -74.011999\n",
      "414   -73.810257\n",
      "204   -73.920796\n",
      "501   -74.120495\n",
      "         ...    \n",
      "409   -73.839063\n",
      "309   -73.946924\n",
      "355   -73.968960\n",
      "502   -74.141808\n",
      "503   -74.190288\n",
      "Length: 71, dtype: float64\n"
     ]
    },
    {
     "name": "stderr",
     "output_type": "stream",
     "text": [
      "C:\\Users\\obause\\AppData\\Local\\Temp\\ipykernel_39872\\3388963524.py:1: UserWarning: Geometry is in a geographic CRS. Results from 'centroid' are likely incorrect. Use 'GeoSeries.to_crs()' to re-project geometries to a projected CRS before this operation.\n",
      "\n",
      "  print(gdf['geometry'].centroid.x)\n"
     ]
    }
   ],
   "source": [
    "print(gdf['geometry'].centroid.x)"
   ]
  },
  {
   "cell_type": "code",
   "execution_count": 2,
   "metadata": {},
   "outputs": [
    {
     "data": {
      "text/html": [
       "<div>\n",
       "<style scoped>\n",
       "    .dataframe tbody tr th:only-of-type {\n",
       "        vertical-align: middle;\n",
       "    }\n",
       "\n",
       "    .dataframe tbody tr th {\n",
       "        vertical-align: top;\n",
       "    }\n",
       "\n",
       "    .dataframe thead th {\n",
       "        text-align: right;\n",
       "    }\n",
       "</style>\n",
       "<table border=\"1\" class=\"dataframe\">\n",
       "  <thead>\n",
       "    <tr style=\"text-align: right;\">\n",
       "      <th></th>\n",
       "      <th>id</th>\n",
       "      <th>GEOCODE</th>\n",
       "      <th>GEONAME</th>\n",
       "      <th>BOROUGH</th>\n",
       "      <th>geometry</th>\n",
       "    </tr>\n",
       "  </thead>\n",
       "  <tbody>\n",
       "    <tr>\n",
       "      <th>0</th>\n",
       "      <td>101</td>\n",
       "      <td>101</td>\n",
       "      <td>Kingsbridge - Riverdale</td>\n",
       "      <td>Bronx</td>\n",
       "      <td>POLYGON ((-73.87793 40.90556, -73.90217 40.912...</td>\n",
       "    </tr>\n",
       "    <tr>\n",
       "      <th>1</th>\n",
       "      <td>102</td>\n",
       "      <td>102</td>\n",
       "      <td>Northeast Bronx</td>\n",
       "      <td>Bronx</td>\n",
       "      <td>POLYGON ((-73.81504 40.88900, -73.82285 40.891...</td>\n",
       "    </tr>\n",
       "    <tr>\n",
       "      <th>2</th>\n",
       "      <td>103</td>\n",
       "      <td>103</td>\n",
       "      <td>Fordham - Bronx Park</td>\n",
       "      <td>Bronx</td>\n",
       "      <td>POLYGON ((-73.85627 40.88315, -73.85588 40.883...</td>\n",
       "    </tr>\n",
       "    <tr>\n",
       "      <th>3</th>\n",
       "      <td>104</td>\n",
       "      <td>104</td>\n",
       "      <td>Pelham - Throgs Neck</td>\n",
       "      <td>Bronx</td>\n",
       "      <td>MULTIPOLYGON (((-73.88366 40.82153, -73.88055 ...</td>\n",
       "    </tr>\n",
       "    <tr>\n",
       "      <th>4</th>\n",
       "      <td>105</td>\n",
       "      <td>105</td>\n",
       "      <td>Crotona - Tremont</td>\n",
       "      <td>Bronx</td>\n",
       "      <td>POLYGON ((-73.91444 40.85978, -73.91292 40.861...</td>\n",
       "    </tr>\n",
       "  </tbody>\n",
       "</table>\n",
       "</div>"
      ],
      "text/plain": [
       "    id  GEOCODE                  GEONAME BOROUGH   \n",
       "0  101      101  Kingsbridge - Riverdale   Bronx  \\\n",
       "1  102      102          Northeast Bronx   Bronx   \n",
       "2  103      103     Fordham - Bronx Park   Bronx   \n",
       "3  104      104     Pelham - Throgs Neck   Bronx   \n",
       "4  105      105        Crotona - Tremont   Bronx   \n",
       "\n",
       "                                            geometry  \n",
       "0  POLYGON ((-73.87793 40.90556, -73.90217 40.912...  \n",
       "1  POLYGON ((-73.81504 40.88900, -73.82285 40.891...  \n",
       "2  POLYGON ((-73.85627 40.88315, -73.85588 40.883...  \n",
       "3  MULTIPOLYGON (((-73.88366 40.82153, -73.88055 ...  \n",
       "4  POLYGON ((-73.91444 40.85978, -73.91292 40.861...  "
      ]
     },
     "execution_count": 2,
     "metadata": {},
     "output_type": "execute_result"
    }
   ],
   "source": [
    "gdf = gpd.read_file('../data/reference_data/UHF42.geo.json')\n",
    "gdf.head()"
   ]
  },
  {
   "cell_type": "code",
   "execution_count": 3,
   "metadata": {},
   "outputs": [
    {
     "name": "stdout",
     "output_type": "stream",
     "text": [
      "<class 'shapely.geometry.multipolygon.MultiPolygon'>\n"
     ]
    }
   ],
   "source": [
    "print(type(gdf['geometry'].iloc[3]))"
   ]
  },
  {
   "cell_type": "code",
   "execution_count": 4,
   "metadata": {},
   "outputs": [
    {
     "name": "stdout",
     "output_type": "stream",
     "text": [
      "43\n"
     ]
    }
   ],
   "source": [
    "print(len(gdf))"
   ]
  },
  {
   "cell_type": "code",
   "execution_count": 5,
   "metadata": {},
   "outputs": [
    {
     "data": {
      "text/html": [
       "<div>\n",
       "<style scoped>\n",
       "    .dataframe tbody tr th:only-of-type {\n",
       "        vertical-align: middle;\n",
       "    }\n",
       "\n",
       "    .dataframe tbody tr th {\n",
       "        vertical-align: top;\n",
       "    }\n",
       "\n",
       "    .dataframe thead th {\n",
       "        text-align: right;\n",
       "    }\n",
       "</style>\n",
       "<table border=\"1\" class=\"dataframe\">\n",
       "  <thead>\n",
       "    <tr style=\"text-align: right;\">\n",
       "      <th></th>\n",
       "      <th>id</th>\n",
       "      <th>GEOCODE</th>\n",
       "      <th>GEONAME</th>\n",
       "      <th>BOROUGH</th>\n",
       "      <th>geometry</th>\n",
       "      <th>displayname</th>\n",
       "    </tr>\n",
       "  </thead>\n",
       "  <tbody>\n",
       "    <tr>\n",
       "      <th>0</th>\n",
       "      <td>101</td>\n",
       "      <td>101</td>\n",
       "      <td>Kingsbridge - Riverdale</td>\n",
       "      <td>Bronx</td>\n",
       "      <td>POLYGON ((-73.87793 40.90556, -73.90217 40.912...</td>\n",
       "      <td>101 &lt;br&gt; Kingsbridge - Riverdale</td>\n",
       "    </tr>\n",
       "    <tr>\n",
       "      <th>1</th>\n",
       "      <td>102</td>\n",
       "      <td>102</td>\n",
       "      <td>Northeast Bronx</td>\n",
       "      <td>Bronx</td>\n",
       "      <td>POLYGON ((-73.81504 40.88900, -73.82285 40.891...</td>\n",
       "      <td>102 &lt;br&gt; Northeast Bronx</td>\n",
       "    </tr>\n",
       "    <tr>\n",
       "      <th>2</th>\n",
       "      <td>103</td>\n",
       "      <td>103</td>\n",
       "      <td>Fordham - Bronx Park</td>\n",
       "      <td>Bronx</td>\n",
       "      <td>POLYGON ((-73.85627 40.88315, -73.85588 40.883...</td>\n",
       "      <td>103 &lt;br&gt; Fordham - Bronx Park</td>\n",
       "    </tr>\n",
       "    <tr>\n",
       "      <th>3</th>\n",
       "      <td>104</td>\n",
       "      <td>104</td>\n",
       "      <td>Pelham - Throgs Neck</td>\n",
       "      <td>Bronx</td>\n",
       "      <td>MULTIPOLYGON (((-73.88366 40.82153, -73.88055 ...</td>\n",
       "      <td>104 &lt;br&gt; Pelham - Throgs Neck</td>\n",
       "    </tr>\n",
       "    <tr>\n",
       "      <th>4</th>\n",
       "      <td>105</td>\n",
       "      <td>105</td>\n",
       "      <td>Crotona - Tremont</td>\n",
       "      <td>Bronx</td>\n",
       "      <td>POLYGON ((-73.91444 40.85978, -73.91292 40.861...</td>\n",
       "      <td>105 &lt;br&gt; Crotona - Tremont</td>\n",
       "    </tr>\n",
       "  </tbody>\n",
       "</table>\n",
       "</div>"
      ],
      "text/plain": [
       "    id  GEOCODE                  GEONAME BOROUGH   \n",
       "0  101      101  Kingsbridge - Riverdale   Bronx  \\\n",
       "1  102      102          Northeast Bronx   Bronx   \n",
       "2  103      103     Fordham - Bronx Park   Bronx   \n",
       "3  104      104     Pelham - Throgs Neck   Bronx   \n",
       "4  105      105        Crotona - Tremont   Bronx   \n",
       "\n",
       "                                            geometry   \n",
       "0  POLYGON ((-73.87793 40.90556, -73.90217 40.912...  \\\n",
       "1  POLYGON ((-73.81504 40.88900, -73.82285 40.891...   \n",
       "2  POLYGON ((-73.85627 40.88315, -73.85588 40.883...   \n",
       "3  MULTIPOLYGON (((-73.88366 40.82153, -73.88055 ...   \n",
       "4  POLYGON ((-73.91444 40.85978, -73.91292 40.861...   \n",
       "\n",
       "                        displayname  \n",
       "0  101 <br> Kingsbridge - Riverdale  \n",
       "1          102 <br> Northeast Bronx  \n",
       "2     103 <br> Fordham - Bronx Park  \n",
       "3     104 <br> Pelham - Throgs Neck  \n",
       "4        105 <br> Crotona - Tremont  "
      ]
     },
     "execution_count": 5,
     "metadata": {},
     "output_type": "execute_result"
    }
   ],
   "source": [
    "gdf['displayname'] = f\"{gdf['GEONAME']} blabla\"\n",
    "gdf['displayname'] = [f'{a} <br> {b}' for a, b in zip(gdf[\"GEOCODE\"], gdf[\"GEONAME\"])]\n",
    "gdf.head()"
   ]
  },
  {
   "cell_type": "code",
   "execution_count": 14,
   "metadata": {},
   "outputs": [
    {
     "name": "stdout",
     "output_type": "stream",
     "text": [
      "101 <br> Kingsbridge - Riverdale\n",
      "102 <br> Northeast Bronx\n",
      "103 <br> Fordham - Bronx Park\n",
      "104 <br> Pelham - Throgs Neck\n",
      "105 <br> Crotona - Tremont\n",
      "106 <br> High Bridge - Morrisania\n",
      "107 <br> Hunts Point - Mott Haven\n",
      "201 <br> Greenpoint\n",
      "202 <br> Downtown  - Heights - Slope\n",
      "203 <br> Bedford Stuyvesant - Crown Heights\n",
      "204 <br> East New York\n",
      "205 <br> Sunset Park\n",
      "206 <br> Borough Park\n",
      "207 <br> East Flatbush - Flatbush\n",
      "208 <br> Canarsie - Flatlands\n",
      "209 <br> Bensonhurst - Bay Ridge\n",
      "210 <br> Coney Island - Sheepshead Bay\n",
      "211 <br> Williamsburg - Bushwick\n",
      "301 <br> Washington Heights - Inwood\n",
      "302 <br> Central Harlem - Morningside Heights\n",
      "303 <br> East Harlem\n",
      "304 <br> Upper West Side\n",
      "305 <br> Upper East Side\n",
      "306 <br> Chelsea - Clinton\n",
      "307 <br> Gramercy Park -  Murray Hill\n",
      "308 <br> Greenwich Village - Soho\n",
      "309 <br> Union Square - Lower East Side\n",
      "310 <br> Lower Manhattan\n",
      "401 <br> Long Island City - Astoria\n",
      "402 <br> West Queens\n",
      "403 <br> Flushing - Clearview\n",
      "404 <br> Bayside - Little Neck\n",
      "405 <br> Ridgewood - Forest Hills\n",
      "406 <br> Fresh Meadows\n",
      "407 <br> Southwest Queens\n",
      "408 <br> Jamaica\n",
      "409 <br> Southeast Queens\n",
      "410 <br> Rockaway\n",
      "501 <br> Port  Richmond\n",
      "502 <br> Stapleton - St. George\n",
      "503 <br> Willowbrook\n",
      "504 <br> South Beach - Tottenville\n",
      "0 <br> \n"
     ]
    }
   ],
   "source": [
    "for i, value in gdf.iterrows():\n",
    "    print(value['displayname'])\n",
    "    "
   ]
  },
  {
   "cell_type": "code",
   "execution_count": 19,
   "metadata": {},
   "outputs": [
    {
     "data": {
      "application/vnd.plotly.v1+json": {
       "config": {
        "plotlyServerURL": "https://plot.ly"
       },
       "data": [
        {
         "mode": "number",
         "type": "indicator",
         "value": 200
        }
       ],
       "layout": {
        "template": {
         "data": {
          "bar": [
           {
            "error_x": {
             "color": "#2a3f5f"
            },
            "error_y": {
             "color": "#2a3f5f"
            },
            "marker": {
             "line": {
              "color": "#E5ECF6",
              "width": 0.5
             },
             "pattern": {
              "fillmode": "overlay",
              "size": 10,
              "solidity": 0.2
             }
            },
            "type": "bar"
           }
          ],
          "barpolar": [
           {
            "marker": {
             "line": {
              "color": "#E5ECF6",
              "width": 0.5
             },
             "pattern": {
              "fillmode": "overlay",
              "size": 10,
              "solidity": 0.2
             }
            },
            "type": "barpolar"
           }
          ],
          "carpet": [
           {
            "aaxis": {
             "endlinecolor": "#2a3f5f",
             "gridcolor": "white",
             "linecolor": "white",
             "minorgridcolor": "white",
             "startlinecolor": "#2a3f5f"
            },
            "baxis": {
             "endlinecolor": "#2a3f5f",
             "gridcolor": "white",
             "linecolor": "white",
             "minorgridcolor": "white",
             "startlinecolor": "#2a3f5f"
            },
            "type": "carpet"
           }
          ],
          "choropleth": [
           {
            "colorbar": {
             "outlinewidth": 0,
             "ticks": ""
            },
            "type": "choropleth"
           }
          ],
          "contour": [
           {
            "colorbar": {
             "outlinewidth": 0,
             "ticks": ""
            },
            "colorscale": [
             [
              0,
              "#0d0887"
             ],
             [
              0.1111111111111111,
              "#46039f"
             ],
             [
              0.2222222222222222,
              "#7201a8"
             ],
             [
              0.3333333333333333,
              "#9c179e"
             ],
             [
              0.4444444444444444,
              "#bd3786"
             ],
             [
              0.5555555555555556,
              "#d8576b"
             ],
             [
              0.6666666666666666,
              "#ed7953"
             ],
             [
              0.7777777777777778,
              "#fb9f3a"
             ],
             [
              0.8888888888888888,
              "#fdca26"
             ],
             [
              1,
              "#f0f921"
             ]
            ],
            "type": "contour"
           }
          ],
          "contourcarpet": [
           {
            "colorbar": {
             "outlinewidth": 0,
             "ticks": ""
            },
            "type": "contourcarpet"
           }
          ],
          "heatmap": [
           {
            "colorbar": {
             "outlinewidth": 0,
             "ticks": ""
            },
            "colorscale": [
             [
              0,
              "#0d0887"
             ],
             [
              0.1111111111111111,
              "#46039f"
             ],
             [
              0.2222222222222222,
              "#7201a8"
             ],
             [
              0.3333333333333333,
              "#9c179e"
             ],
             [
              0.4444444444444444,
              "#bd3786"
             ],
             [
              0.5555555555555556,
              "#d8576b"
             ],
             [
              0.6666666666666666,
              "#ed7953"
             ],
             [
              0.7777777777777778,
              "#fb9f3a"
             ],
             [
              0.8888888888888888,
              "#fdca26"
             ],
             [
              1,
              "#f0f921"
             ]
            ],
            "type": "heatmap"
           }
          ],
          "heatmapgl": [
           {
            "colorbar": {
             "outlinewidth": 0,
             "ticks": ""
            },
            "colorscale": [
             [
              0,
              "#0d0887"
             ],
             [
              0.1111111111111111,
              "#46039f"
             ],
             [
              0.2222222222222222,
              "#7201a8"
             ],
             [
              0.3333333333333333,
              "#9c179e"
             ],
             [
              0.4444444444444444,
              "#bd3786"
             ],
             [
              0.5555555555555556,
              "#d8576b"
             ],
             [
              0.6666666666666666,
              "#ed7953"
             ],
             [
              0.7777777777777778,
              "#fb9f3a"
             ],
             [
              0.8888888888888888,
              "#fdca26"
             ],
             [
              1,
              "#f0f921"
             ]
            ],
            "type": "heatmapgl"
           }
          ],
          "histogram": [
           {
            "marker": {
             "pattern": {
              "fillmode": "overlay",
              "size": 10,
              "solidity": 0.2
             }
            },
            "type": "histogram"
           }
          ],
          "histogram2d": [
           {
            "colorbar": {
             "outlinewidth": 0,
             "ticks": ""
            },
            "colorscale": [
             [
              0,
              "#0d0887"
             ],
             [
              0.1111111111111111,
              "#46039f"
             ],
             [
              0.2222222222222222,
              "#7201a8"
             ],
             [
              0.3333333333333333,
              "#9c179e"
             ],
             [
              0.4444444444444444,
              "#bd3786"
             ],
             [
              0.5555555555555556,
              "#d8576b"
             ],
             [
              0.6666666666666666,
              "#ed7953"
             ],
             [
              0.7777777777777778,
              "#fb9f3a"
             ],
             [
              0.8888888888888888,
              "#fdca26"
             ],
             [
              1,
              "#f0f921"
             ]
            ],
            "type": "histogram2d"
           }
          ],
          "histogram2dcontour": [
           {
            "colorbar": {
             "outlinewidth": 0,
             "ticks": ""
            },
            "colorscale": [
             [
              0,
              "#0d0887"
             ],
             [
              0.1111111111111111,
              "#46039f"
             ],
             [
              0.2222222222222222,
              "#7201a8"
             ],
             [
              0.3333333333333333,
              "#9c179e"
             ],
             [
              0.4444444444444444,
              "#bd3786"
             ],
             [
              0.5555555555555556,
              "#d8576b"
             ],
             [
              0.6666666666666666,
              "#ed7953"
             ],
             [
              0.7777777777777778,
              "#fb9f3a"
             ],
             [
              0.8888888888888888,
              "#fdca26"
             ],
             [
              1,
              "#f0f921"
             ]
            ],
            "type": "histogram2dcontour"
           }
          ],
          "mesh3d": [
           {
            "colorbar": {
             "outlinewidth": 0,
             "ticks": ""
            },
            "type": "mesh3d"
           }
          ],
          "parcoords": [
           {
            "line": {
             "colorbar": {
              "outlinewidth": 0,
              "ticks": ""
             }
            },
            "type": "parcoords"
           }
          ],
          "pie": [
           {
            "automargin": true,
            "type": "pie"
           }
          ],
          "scatter": [
           {
            "fillpattern": {
             "fillmode": "overlay",
             "size": 10,
             "solidity": 0.2
            },
            "type": "scatter"
           }
          ],
          "scatter3d": [
           {
            "line": {
             "colorbar": {
              "outlinewidth": 0,
              "ticks": ""
             }
            },
            "marker": {
             "colorbar": {
              "outlinewidth": 0,
              "ticks": ""
             }
            },
            "type": "scatter3d"
           }
          ],
          "scattercarpet": [
           {
            "marker": {
             "colorbar": {
              "outlinewidth": 0,
              "ticks": ""
             }
            },
            "type": "scattercarpet"
           }
          ],
          "scattergeo": [
           {
            "marker": {
             "colorbar": {
              "outlinewidth": 0,
              "ticks": ""
             }
            },
            "type": "scattergeo"
           }
          ],
          "scattergl": [
           {
            "marker": {
             "colorbar": {
              "outlinewidth": 0,
              "ticks": ""
             }
            },
            "type": "scattergl"
           }
          ],
          "scattermapbox": [
           {
            "marker": {
             "colorbar": {
              "outlinewidth": 0,
              "ticks": ""
             }
            },
            "type": "scattermapbox"
           }
          ],
          "scatterpolar": [
           {
            "marker": {
             "colorbar": {
              "outlinewidth": 0,
              "ticks": ""
             }
            },
            "type": "scatterpolar"
           }
          ],
          "scatterpolargl": [
           {
            "marker": {
             "colorbar": {
              "outlinewidth": 0,
              "ticks": ""
             }
            },
            "type": "scatterpolargl"
           }
          ],
          "scatterternary": [
           {
            "marker": {
             "colorbar": {
              "outlinewidth": 0,
              "ticks": ""
             }
            },
            "type": "scatterternary"
           }
          ],
          "surface": [
           {
            "colorbar": {
             "outlinewidth": 0,
             "ticks": ""
            },
            "colorscale": [
             [
              0,
              "#0d0887"
             ],
             [
              0.1111111111111111,
              "#46039f"
             ],
             [
              0.2222222222222222,
              "#7201a8"
             ],
             [
              0.3333333333333333,
              "#9c179e"
             ],
             [
              0.4444444444444444,
              "#bd3786"
             ],
             [
              0.5555555555555556,
              "#d8576b"
             ],
             [
              0.6666666666666666,
              "#ed7953"
             ],
             [
              0.7777777777777778,
              "#fb9f3a"
             ],
             [
              0.8888888888888888,
              "#fdca26"
             ],
             [
              1,
              "#f0f921"
             ]
            ],
            "type": "surface"
           }
          ],
          "table": [
           {
            "cells": {
             "fill": {
              "color": "#EBF0F8"
             },
             "line": {
              "color": "white"
             }
            },
            "header": {
             "fill": {
              "color": "#C8D4E3"
             },
             "line": {
              "color": "white"
             }
            },
            "type": "table"
           }
          ]
         },
         "layout": {
          "annotationdefaults": {
           "arrowcolor": "#2a3f5f",
           "arrowhead": 0,
           "arrowwidth": 1
          },
          "autotypenumbers": "strict",
          "coloraxis": {
           "colorbar": {
            "outlinewidth": 0,
            "ticks": ""
           }
          },
          "colorscale": {
           "diverging": [
            [
             0,
             "#8e0152"
            ],
            [
             0.1,
             "#c51b7d"
            ],
            [
             0.2,
             "#de77ae"
            ],
            [
             0.3,
             "#f1b6da"
            ],
            [
             0.4,
             "#fde0ef"
            ],
            [
             0.5,
             "#f7f7f7"
            ],
            [
             0.6,
             "#e6f5d0"
            ],
            [
             0.7,
             "#b8e186"
            ],
            [
             0.8,
             "#7fbc41"
            ],
            [
             0.9,
             "#4d9221"
            ],
            [
             1,
             "#276419"
            ]
           ],
           "sequential": [
            [
             0,
             "#0d0887"
            ],
            [
             0.1111111111111111,
             "#46039f"
            ],
            [
             0.2222222222222222,
             "#7201a8"
            ],
            [
             0.3333333333333333,
             "#9c179e"
            ],
            [
             0.4444444444444444,
             "#bd3786"
            ],
            [
             0.5555555555555556,
             "#d8576b"
            ],
            [
             0.6666666666666666,
             "#ed7953"
            ],
            [
             0.7777777777777778,
             "#fb9f3a"
            ],
            [
             0.8888888888888888,
             "#fdca26"
            ],
            [
             1,
             "#f0f921"
            ]
           ],
           "sequentialminus": [
            [
             0,
             "#0d0887"
            ],
            [
             0.1111111111111111,
             "#46039f"
            ],
            [
             0.2222222222222222,
             "#7201a8"
            ],
            [
             0.3333333333333333,
             "#9c179e"
            ],
            [
             0.4444444444444444,
             "#bd3786"
            ],
            [
             0.5555555555555556,
             "#d8576b"
            ],
            [
             0.6666666666666666,
             "#ed7953"
            ],
            [
             0.7777777777777778,
             "#fb9f3a"
            ],
            [
             0.8888888888888888,
             "#fdca26"
            ],
            [
             1,
             "#f0f921"
            ]
           ]
          },
          "colorway": [
           "#636efa",
           "#EF553B",
           "#00cc96",
           "#ab63fa",
           "#FFA15A",
           "#19d3f3",
           "#FF6692",
           "#B6E880",
           "#FF97FF",
           "#FECB52"
          ],
          "font": {
           "color": "#2a3f5f"
          },
          "geo": {
           "bgcolor": "white",
           "lakecolor": "white",
           "landcolor": "#E5ECF6",
           "showlakes": true,
           "showland": true,
           "subunitcolor": "white"
          },
          "hoverlabel": {
           "align": "left"
          },
          "hovermode": "closest",
          "mapbox": {
           "style": "light"
          },
          "paper_bgcolor": "white",
          "plot_bgcolor": "#E5ECF6",
          "polar": {
           "angularaxis": {
            "gridcolor": "white",
            "linecolor": "white",
            "ticks": ""
           },
           "bgcolor": "#E5ECF6",
           "radialaxis": {
            "gridcolor": "white",
            "linecolor": "white",
            "ticks": ""
           }
          },
          "scene": {
           "xaxis": {
            "backgroundcolor": "#E5ECF6",
            "gridcolor": "white",
            "gridwidth": 2,
            "linecolor": "white",
            "showbackground": true,
            "ticks": "",
            "zerolinecolor": "white"
           },
           "yaxis": {
            "backgroundcolor": "#E5ECF6",
            "gridcolor": "white",
            "gridwidth": 2,
            "linecolor": "white",
            "showbackground": true,
            "ticks": "",
            "zerolinecolor": "white"
           },
           "zaxis": {
            "backgroundcolor": "#E5ECF6",
            "gridcolor": "white",
            "gridwidth": 2,
            "linecolor": "white",
            "showbackground": true,
            "ticks": "",
            "zerolinecolor": "white"
           }
          },
          "shapedefaults": {
           "line": {
            "color": "#2a3f5f"
           }
          },
          "ternary": {
           "aaxis": {
            "gridcolor": "white",
            "linecolor": "white",
            "ticks": ""
           },
           "baxis": {
            "gridcolor": "white",
            "linecolor": "white",
            "ticks": ""
           },
           "bgcolor": "#E5ECF6",
           "caxis": {
            "gridcolor": "white",
            "linecolor": "white",
            "ticks": ""
           }
          },
          "title": {
           "x": 0.05
          },
          "xaxis": {
           "automargin": true,
           "gridcolor": "white",
           "linecolor": "white",
           "ticks": "",
           "title": {
            "standoff": 15
           },
           "zerolinecolor": "white",
           "zerolinewidth": 2
          },
          "yaxis": {
           "automargin": true,
           "gridcolor": "white",
           "linecolor": "white",
           "ticks": "",
           "title": {
            "standoff": 15
           },
           "zerolinecolor": "white",
           "zerolinewidth": 2
          }
         }
        }
       }
      }
     },
     "metadata": {},
     "output_type": "display_data"
    }
   ],
   "source": [
    "import plotly.graph_objects as go\n",
    "\n",
    "fig = go.Figure()\n",
    "\n",
    "fig.add_trace(go.Indicator(\n",
    "    mode = \"number\",\n",
    "    value = 200,\n",
    "    #domain = {'x': [0, 0.5], 'y': [0, 0.5]},\n",
    "))\n",
    "\n",
    "fig.show()"
   ]
  },
  {
   "cell_type": "code",
   "execution_count": 22,
   "metadata": {},
   "outputs": [
    {
     "data": {
      "application/vnd.plotly.v1+json": {
       "config": {
        "plotlyServerURL": "https://plot.ly"
       },
       "data": [
        {
         "mode": "number",
         "title": {
          "text": "pct_foreign_born"
         },
         "type": "indicator",
         "value": 28.1
        },
        {
         "mode": "number",
         "title": {
          "text": "moe_foreign_born"
         },
         "type": "indicator",
         "value": 1.5
        },
        {
         "mode": "number",
         "title": {
          "text": "lep_rate"
         },
         "type": "indicator",
         "value": 9.6
        },
        {
         "mode": "number",
         "title": {
          "text": "moe_lep_rate"
         },
         "type": "indicator",
         "value": 1.1
        },
        {
         "mode": "number",
         "title": {
          "text": "pct_white_nh"
         },
         "type": "indicator",
         "value": 64.8
        },
        {
         "mode": "number",
         "title": {
          "text": "pct_black_nh"
         },
         "type": "indicator",
         "value": 3.2
        },
        {
         "mode": "number",
         "title": {
          "text": "pct_asian_nh"
         },
         "type": "indicator",
         "value": 20.9
        },
        {
         "mode": "number",
         "title": {
          "text": "pct_other_nh"
         },
         "type": "indicator",
         "value": 4.1
        },
        {
         "mode": "number",
         "title": {
          "text": "pct_hispanic"
         },
         "type": "indicator",
         "value": 7
        },
        {
         "mode": "number",
         "title": {
          "text": "poverty_rate"
         },
         "type": "indicator",
         "value": 7.9
        },
        {
         "mode": "number",
         "title": {
          "text": "moe_poverty_rate"
         },
         "type": "indicator",
         "value": 1
        },
        {
         "mode": "number",
         "title": {
          "text": "pct_hh_rent_burd"
         },
         "type": "indicator",
         "value": 28.4
        },
        {
         "mode": "number",
         "title": {
          "text": "moe_hh_rent_burd"
         },
         "type": "indicator",
         "value": 2.2
        },
        {
         "mode": "number",
         "title": {
          "text": "pct_bach_deg"
         },
         "type": "indicator",
         "value": 78.8
        },
        {
         "mode": "number",
         "title": {
          "text": "moe_bach_deg"
         },
         "type": "indicator",
         "value": 1.2
        },
        {
         "mode": "number",
         "title": {
          "text": "unemployment"
         },
         "type": "indicator",
         "value": 2.7
        },
        {
         "mode": "number",
         "title": {
          "text": "moe_unemployment"
         },
         "type": "indicator",
         "value": 0.5
        },
        {
         "mode": "number",
         "title": {
          "text": "mean_commute"
         },
         "type": "indicator",
         "value": 26.1
        },
        {
         "mode": "number",
         "title": {
          "text": "moe_mean_commute"
         },
         "type": "indicator",
         "value": 1.2
        },
        {
         "mode": "number",
         "title": {
          "text": "crime_count"
         },
         "type": "indicator",
         "value": 1055
        },
        {
         "mode": "number",
         "title": {
          "text": "crime_per_1000"
         },
         "type": "indicator",
         "value": 14
        }
       ],
       "layout": {
        "template": {
         "data": {
          "bar": [
           {
            "error_x": {
             "color": "#2a3f5f"
            },
            "error_y": {
             "color": "#2a3f5f"
            },
            "marker": {
             "line": {
              "color": "#E5ECF6",
              "width": 0.5
             },
             "pattern": {
              "fillmode": "overlay",
              "size": 10,
              "solidity": 0.2
             }
            },
            "type": "bar"
           }
          ],
          "barpolar": [
           {
            "marker": {
             "line": {
              "color": "#E5ECF6",
              "width": 0.5
             },
             "pattern": {
              "fillmode": "overlay",
              "size": 10,
              "solidity": 0.2
             }
            },
            "type": "barpolar"
           }
          ],
          "carpet": [
           {
            "aaxis": {
             "endlinecolor": "#2a3f5f",
             "gridcolor": "white",
             "linecolor": "white",
             "minorgridcolor": "white",
             "startlinecolor": "#2a3f5f"
            },
            "baxis": {
             "endlinecolor": "#2a3f5f",
             "gridcolor": "white",
             "linecolor": "white",
             "minorgridcolor": "white",
             "startlinecolor": "#2a3f5f"
            },
            "type": "carpet"
           }
          ],
          "choropleth": [
           {
            "colorbar": {
             "outlinewidth": 0,
             "ticks": ""
            },
            "type": "choropleth"
           }
          ],
          "contour": [
           {
            "colorbar": {
             "outlinewidth": 0,
             "ticks": ""
            },
            "colorscale": [
             [
              0,
              "#0d0887"
             ],
             [
              0.1111111111111111,
              "#46039f"
             ],
             [
              0.2222222222222222,
              "#7201a8"
             ],
             [
              0.3333333333333333,
              "#9c179e"
             ],
             [
              0.4444444444444444,
              "#bd3786"
             ],
             [
              0.5555555555555556,
              "#d8576b"
             ],
             [
              0.6666666666666666,
              "#ed7953"
             ],
             [
              0.7777777777777778,
              "#fb9f3a"
             ],
             [
              0.8888888888888888,
              "#fdca26"
             ],
             [
              1,
              "#f0f921"
             ]
            ],
            "type": "contour"
           }
          ],
          "contourcarpet": [
           {
            "colorbar": {
             "outlinewidth": 0,
             "ticks": ""
            },
            "type": "contourcarpet"
           }
          ],
          "heatmap": [
           {
            "colorbar": {
             "outlinewidth": 0,
             "ticks": ""
            },
            "colorscale": [
             [
              0,
              "#0d0887"
             ],
             [
              0.1111111111111111,
              "#46039f"
             ],
             [
              0.2222222222222222,
              "#7201a8"
             ],
             [
              0.3333333333333333,
              "#9c179e"
             ],
             [
              0.4444444444444444,
              "#bd3786"
             ],
             [
              0.5555555555555556,
              "#d8576b"
             ],
             [
              0.6666666666666666,
              "#ed7953"
             ],
             [
              0.7777777777777778,
              "#fb9f3a"
             ],
             [
              0.8888888888888888,
              "#fdca26"
             ],
             [
              1,
              "#f0f921"
             ]
            ],
            "type": "heatmap"
           }
          ],
          "heatmapgl": [
           {
            "colorbar": {
             "outlinewidth": 0,
             "ticks": ""
            },
            "colorscale": [
             [
              0,
              "#0d0887"
             ],
             [
              0.1111111111111111,
              "#46039f"
             ],
             [
              0.2222222222222222,
              "#7201a8"
             ],
             [
              0.3333333333333333,
              "#9c179e"
             ],
             [
              0.4444444444444444,
              "#bd3786"
             ],
             [
              0.5555555555555556,
              "#d8576b"
             ],
             [
              0.6666666666666666,
              "#ed7953"
             ],
             [
              0.7777777777777778,
              "#fb9f3a"
             ],
             [
              0.8888888888888888,
              "#fdca26"
             ],
             [
              1,
              "#f0f921"
             ]
            ],
            "type": "heatmapgl"
           }
          ],
          "histogram": [
           {
            "marker": {
             "pattern": {
              "fillmode": "overlay",
              "size": 10,
              "solidity": 0.2
             }
            },
            "type": "histogram"
           }
          ],
          "histogram2d": [
           {
            "colorbar": {
             "outlinewidth": 0,
             "ticks": ""
            },
            "colorscale": [
             [
              0,
              "#0d0887"
             ],
             [
              0.1111111111111111,
              "#46039f"
             ],
             [
              0.2222222222222222,
              "#7201a8"
             ],
             [
              0.3333333333333333,
              "#9c179e"
             ],
             [
              0.4444444444444444,
              "#bd3786"
             ],
             [
              0.5555555555555556,
              "#d8576b"
             ],
             [
              0.6666666666666666,
              "#ed7953"
             ],
             [
              0.7777777777777778,
              "#fb9f3a"
             ],
             [
              0.8888888888888888,
              "#fdca26"
             ],
             [
              1,
              "#f0f921"
             ]
            ],
            "type": "histogram2d"
           }
          ],
          "histogram2dcontour": [
           {
            "colorbar": {
             "outlinewidth": 0,
             "ticks": ""
            },
            "colorscale": [
             [
              0,
              "#0d0887"
             ],
             [
              0.1111111111111111,
              "#46039f"
             ],
             [
              0.2222222222222222,
              "#7201a8"
             ],
             [
              0.3333333333333333,
              "#9c179e"
             ],
             [
              0.4444444444444444,
              "#bd3786"
             ],
             [
              0.5555555555555556,
              "#d8576b"
             ],
             [
              0.6666666666666666,
              "#ed7953"
             ],
             [
              0.7777777777777778,
              "#fb9f3a"
             ],
             [
              0.8888888888888888,
              "#fdca26"
             ],
             [
              1,
              "#f0f921"
             ]
            ],
            "type": "histogram2dcontour"
           }
          ],
          "mesh3d": [
           {
            "colorbar": {
             "outlinewidth": 0,
             "ticks": ""
            },
            "type": "mesh3d"
           }
          ],
          "parcoords": [
           {
            "line": {
             "colorbar": {
              "outlinewidth": 0,
              "ticks": ""
             }
            },
            "type": "parcoords"
           }
          ],
          "pie": [
           {
            "automargin": true,
            "type": "pie"
           }
          ],
          "scatter": [
           {
            "fillpattern": {
             "fillmode": "overlay",
             "size": 10,
             "solidity": 0.2
            },
            "type": "scatter"
           }
          ],
          "scatter3d": [
           {
            "line": {
             "colorbar": {
              "outlinewidth": 0,
              "ticks": ""
             }
            },
            "marker": {
             "colorbar": {
              "outlinewidth": 0,
              "ticks": ""
             }
            },
            "type": "scatter3d"
           }
          ],
          "scattercarpet": [
           {
            "marker": {
             "colorbar": {
              "outlinewidth": 0,
              "ticks": ""
             }
            },
            "type": "scattercarpet"
           }
          ],
          "scattergeo": [
           {
            "marker": {
             "colorbar": {
              "outlinewidth": 0,
              "ticks": ""
             }
            },
            "type": "scattergeo"
           }
          ],
          "scattergl": [
           {
            "marker": {
             "colorbar": {
              "outlinewidth": 0,
              "ticks": ""
             }
            },
            "type": "scattergl"
           }
          ],
          "scattermapbox": [
           {
            "marker": {
             "colorbar": {
              "outlinewidth": 0,
              "ticks": ""
             }
            },
            "type": "scattermapbox"
           }
          ],
          "scatterpolar": [
           {
            "marker": {
             "colorbar": {
              "outlinewidth": 0,
              "ticks": ""
             }
            },
            "type": "scatterpolar"
           }
          ],
          "scatterpolargl": [
           {
            "marker": {
             "colorbar": {
              "outlinewidth": 0,
              "ticks": ""
             }
            },
            "type": "scatterpolargl"
           }
          ],
          "scatterternary": [
           {
            "marker": {
             "colorbar": {
              "outlinewidth": 0,
              "ticks": ""
             }
            },
            "type": "scatterternary"
           }
          ],
          "surface": [
           {
            "colorbar": {
             "outlinewidth": 0,
             "ticks": ""
            },
            "colorscale": [
             [
              0,
              "#0d0887"
             ],
             [
              0.1111111111111111,
              "#46039f"
             ],
             [
              0.2222222222222222,
              "#7201a8"
             ],
             [
              0.3333333333333333,
              "#9c179e"
             ],
             [
              0.4444444444444444,
              "#bd3786"
             ],
             [
              0.5555555555555556,
              "#d8576b"
             ],
             [
              0.6666666666666666,
              "#ed7953"
             ],
             [
              0.7777777777777778,
              "#fb9f3a"
             ],
             [
              0.8888888888888888,
              "#fdca26"
             ],
             [
              1,
              "#f0f921"
             ]
            ],
            "type": "surface"
           }
          ],
          "table": [
           {
            "cells": {
             "fill": {
              "color": "#EBF0F8"
             },
             "line": {
              "color": "white"
             }
            },
            "header": {
             "fill": {
              "color": "#C8D4E3"
             },
             "line": {
              "color": "white"
             }
            },
            "type": "table"
           }
          ]
         },
         "layout": {
          "annotationdefaults": {
           "arrowcolor": "#2a3f5f",
           "arrowhead": 0,
           "arrowwidth": 1
          },
          "autotypenumbers": "strict",
          "coloraxis": {
           "colorbar": {
            "outlinewidth": 0,
            "ticks": ""
           }
          },
          "colorscale": {
           "diverging": [
            [
             0,
             "#8e0152"
            ],
            [
             0.1,
             "#c51b7d"
            ],
            [
             0.2,
             "#de77ae"
            ],
            [
             0.3,
             "#f1b6da"
            ],
            [
             0.4,
             "#fde0ef"
            ],
            [
             0.5,
             "#f7f7f7"
            ],
            [
             0.6,
             "#e6f5d0"
            ],
            [
             0.7,
             "#b8e186"
            ],
            [
             0.8,
             "#7fbc41"
            ],
            [
             0.9,
             "#4d9221"
            ],
            [
             1,
             "#276419"
            ]
           ],
           "sequential": [
            [
             0,
             "#0d0887"
            ],
            [
             0.1111111111111111,
             "#46039f"
            ],
            [
             0.2222222222222222,
             "#7201a8"
            ],
            [
             0.3333333333333333,
             "#9c179e"
            ],
            [
             0.4444444444444444,
             "#bd3786"
            ],
            [
             0.5555555555555556,
             "#d8576b"
            ],
            [
             0.6666666666666666,
             "#ed7953"
            ],
            [
             0.7777777777777778,
             "#fb9f3a"
            ],
            [
             0.8888888888888888,
             "#fdca26"
            ],
            [
             1,
             "#f0f921"
            ]
           ],
           "sequentialminus": [
            [
             0,
             "#0d0887"
            ],
            [
             0.1111111111111111,
             "#46039f"
            ],
            [
             0.2222222222222222,
             "#7201a8"
            ],
            [
             0.3333333333333333,
             "#9c179e"
            ],
            [
             0.4444444444444444,
             "#bd3786"
            ],
            [
             0.5555555555555556,
             "#d8576b"
            ],
            [
             0.6666666666666666,
             "#ed7953"
            ],
            [
             0.7777777777777778,
             "#fb9f3a"
            ],
            [
             0.8888888888888888,
             "#fdca26"
            ],
            [
             1,
             "#f0f921"
            ]
           ]
          },
          "colorway": [
           "#636efa",
           "#EF553B",
           "#00cc96",
           "#ab63fa",
           "#FFA15A",
           "#19d3f3",
           "#FF6692",
           "#B6E880",
           "#FF97FF",
           "#FECB52"
          ],
          "font": {
           "color": "#2a3f5f"
          },
          "geo": {
           "bgcolor": "white",
           "lakecolor": "white",
           "landcolor": "#E5ECF6",
           "showlakes": true,
           "showland": true,
           "subunitcolor": "white"
          },
          "hoverlabel": {
           "align": "left"
          },
          "hovermode": "closest",
          "mapbox": {
           "style": "light"
          },
          "paper_bgcolor": "white",
          "plot_bgcolor": "#E5ECF6",
          "polar": {
           "angularaxis": {
            "gridcolor": "white",
            "linecolor": "white",
            "ticks": ""
           },
           "bgcolor": "#E5ECF6",
           "radialaxis": {
            "gridcolor": "white",
            "linecolor": "white",
            "ticks": ""
           }
          },
          "scene": {
           "xaxis": {
            "backgroundcolor": "#E5ECF6",
            "gridcolor": "white",
            "gridwidth": 2,
            "linecolor": "white",
            "showbackground": true,
            "ticks": "",
            "zerolinecolor": "white"
           },
           "yaxis": {
            "backgroundcolor": "#E5ECF6",
            "gridcolor": "white",
            "gridwidth": 2,
            "linecolor": "white",
            "showbackground": true,
            "ticks": "",
            "zerolinecolor": "white"
           },
           "zaxis": {
            "backgroundcolor": "#E5ECF6",
            "gridcolor": "white",
            "gridwidth": 2,
            "linecolor": "white",
            "showbackground": true,
            "ticks": "",
            "zerolinecolor": "white"
           }
          },
          "shapedefaults": {
           "line": {
            "color": "#2a3f5f"
           }
          },
          "ternary": {
           "aaxis": {
            "gridcolor": "white",
            "linecolor": "white",
            "ticks": ""
           },
           "baxis": {
            "gridcolor": "white",
            "linecolor": "white",
            "ticks": ""
           },
           "bgcolor": "#E5ECF6",
           "caxis": {
            "gridcolor": "white",
            "linecolor": "white",
            "ticks": ""
           }
          },
          "title": {
           "x": 0.05
          },
          "xaxis": {
           "automargin": true,
           "gridcolor": "white",
           "linecolor": "white",
           "ticks": "",
           "title": {
            "standoff": 15
           },
           "zerolinecolor": "white",
           "zerolinewidth": 2
          },
          "yaxis": {
           "automargin": true,
           "gridcolor": "white",
           "linecolor": "white",
           "ticks": "",
           "title": {
            "standoff": 15
           },
           "zerolinecolor": "white",
           "zerolinewidth": 2
          }
         }
        }
       }
      }
     },
     "metadata": {},
     "output_type": "display_data"
    }
   ],
   "source": [
    "selected_cd = 101\n",
    "cd_indicators = pd.read_csv(\"../data/social/cd_demographic_race_economics.csv\")\n",
    "filtered_df = cd_indicators[cd_indicators[\"cd_number\"] == selected_cd]\n",
    "    \n",
    "fig = go.Figure()\n",
    "for col in filtered_df.columns[3:]:\n",
    "    \n",
    "    fig.add_trace(go.Indicator(\n",
    "        mode = \"number\",\n",
    "        value = filtered_df[col].values[0],\n",
    "        title={\"text\": col},\n",
    "        #domain = {'x': [0, 0.5], 'y': [0, 0.5]},\n",
    "        #delta = {'reference': 400, 'relative': True, 'position' : \"top\"}\n",
    "    ))\n",
    "    \n",
    "fig.show()"
   ]
  },
  {
   "cell_type": "code",
   "execution_count": null,
   "metadata": {},
   "outputs": [],
   "source": []
  }
 ],
 "metadata": {
  "kernelspec": {
   "display_name": ".venv",
   "language": "python",
   "name": "python3"
  },
  "language_info": {
   "codemirror_mode": {
    "name": "ipython",
    "version": 3
   },
   "file_extension": ".py",
   "mimetype": "text/x-python",
   "name": "python",
   "nbconvert_exporter": "python",
   "pygments_lexer": "ipython3",
   "version": "3.10.6"
  },
  "orig_nbformat": 4
 },
 "nbformat": 4,
 "nbformat_minor": 2
}
