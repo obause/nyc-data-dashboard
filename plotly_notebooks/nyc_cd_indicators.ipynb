{
 "cells": [
  {
   "cell_type": "code",
   "execution_count": 1,
   "metadata": {},
   "outputs": [],
   "source": [
    "import pandas as pd\n",
    "\n",
    "cd_indicators = pd.read_csv('../data/social/cd_demographic_race_economics.csv')"
   ]
  },
  {
   "cell_type": "code",
   "execution_count": 6,
   "metadata": {},
   "outputs": [
    {
     "data": {
      "text/html": [
       "<div>\n",
       "<style scoped>\n",
       "    .dataframe tbody tr th:only-of-type {\n",
       "        vertical-align: middle;\n",
       "    }\n",
       "\n",
       "    .dataframe tbody tr th {\n",
       "        vertical-align: top;\n",
       "    }\n",
       "\n",
       "    .dataframe thead th {\n",
       "        text-align: right;\n",
       "    }\n",
       "</style>\n",
       "<table border=\"1\" class=\"dataframe\">\n",
       "  <thead>\n",
       "    <tr style=\"text-align: right;\">\n",
       "      <th></th>\n",
       "      <th>cd_name</th>\n",
       "      <th>cd_number</th>\n",
       "      <th>borough</th>\n",
       "      <th>pct_foreign_born</th>\n",
       "      <th>moe_foreign_born</th>\n",
       "      <th>lep_rate</th>\n",
       "      <th>moe_lep_rate</th>\n",
       "      <th>pct_white_nh</th>\n",
       "      <th>pct_black_nh</th>\n",
       "      <th>pct_asian_nh</th>\n",
       "      <th>...</th>\n",
       "      <th>pct_hh_rent_burd</th>\n",
       "      <th>moe_hh_rent_burd</th>\n",
       "      <th>pct_bach_deg</th>\n",
       "      <th>moe_bach_deg</th>\n",
       "      <th>unemployment</th>\n",
       "      <th>moe_unemployment</th>\n",
       "      <th>mean_commute</th>\n",
       "      <th>moe_mean_commute</th>\n",
       "      <th>crime_count</th>\n",
       "      <th>crime_per_1000</th>\n",
       "    </tr>\n",
       "  </thead>\n",
       "  <tbody>\n",
       "    <tr>\n",
       "      <th>0</th>\n",
       "      <td>Bronx Community District 1</td>\n",
       "      <td>201</td>\n",
       "      <td>Bronx</td>\n",
       "      <td>29.3</td>\n",
       "      <td>1.6</td>\n",
       "      <td>29.5</td>\n",
       "      <td>1.6</td>\n",
       "      <td>2.1</td>\n",
       "      <td>28.8</td>\n",
       "      <td>0.5</td>\n",
       "      <td>...</td>\n",
       "      <td>49.4</td>\n",
       "      <td>2.1</td>\n",
       "      <td>11.3</td>\n",
       "      <td>1.0</td>\n",
       "      <td>6.4</td>\n",
       "      <td>0.8</td>\n",
       "      <td>42.5</td>\n",
       "      <td>2.5</td>\n",
       "      <td>2205</td>\n",
       "      <td>21.7</td>\n",
       "    </tr>\n",
       "    <tr>\n",
       "      <th>1</th>\n",
       "      <td>Bronx Community District 2</td>\n",
       "      <td>202</td>\n",
       "      <td>Bronx</td>\n",
       "      <td>34.6</td>\n",
       "      <td>1.8</td>\n",
       "      <td>30.6</td>\n",
       "      <td>1.8</td>\n",
       "      <td>1.9</td>\n",
       "      <td>28.4</td>\n",
       "      <td>1.1</td>\n",
       "      <td>...</td>\n",
       "      <td>53.8</td>\n",
       "      <td>2.5</td>\n",
       "      <td>14.2</td>\n",
       "      <td>1.2</td>\n",
       "      <td>6.4</td>\n",
       "      <td>0.8</td>\n",
       "      <td>44.9</td>\n",
       "      <td>2.9</td>\n",
       "      <td>864</td>\n",
       "      <td>12.3</td>\n",
       "    </tr>\n",
       "    <tr>\n",
       "      <th>2</th>\n",
       "      <td>Bronx Community District 3</td>\n",
       "      <td>203</td>\n",
       "      <td>Bronx</td>\n",
       "      <td>31.7</td>\n",
       "      <td>1.3</td>\n",
       "      <td>25.9</td>\n",
       "      <td>1.3</td>\n",
       "      <td>1.2</td>\n",
       "      <td>35.8</td>\n",
       "      <td>0.8</td>\n",
       "      <td>...</td>\n",
       "      <td>48.0</td>\n",
       "      <td>2.0</td>\n",
       "      <td>14.1</td>\n",
       "      <td>1.1</td>\n",
       "      <td>6.6</td>\n",
       "      <td>0.7</td>\n",
       "      <td>43.9</td>\n",
       "      <td>2.6</td>\n",
       "      <td>1495</td>\n",
       "      <td>13.6</td>\n",
       "    </tr>\n",
       "    <tr>\n",
       "      <th>3</th>\n",
       "      <td>Bronx Community District 6</td>\n",
       "      <td>206</td>\n",
       "      <td>Bronx</td>\n",
       "      <td>32.6</td>\n",
       "      <td>1.5</td>\n",
       "      <td>27.5</td>\n",
       "      <td>1.5</td>\n",
       "      <td>6.1</td>\n",
       "      <td>27.0</td>\n",
       "      <td>1.3</td>\n",
       "      <td>...</td>\n",
       "      <td>55.1</td>\n",
       "      <td>2.0</td>\n",
       "      <td>12.6</td>\n",
       "      <td>1.1</td>\n",
       "      <td>8.4</td>\n",
       "      <td>0.8</td>\n",
       "      <td>44.4</td>\n",
       "      <td>2.4</td>\n",
       "      <td>1312</td>\n",
       "      <td>12.0</td>\n",
       "    </tr>\n",
       "    <tr>\n",
       "      <th>4</th>\n",
       "      <td>Bronx Community District 4</td>\n",
       "      <td>204</td>\n",
       "      <td>Bronx</td>\n",
       "      <td>42.7</td>\n",
       "      <td>1.3</td>\n",
       "      <td>35.8</td>\n",
       "      <td>1.4</td>\n",
       "      <td>1.9</td>\n",
       "      <td>28.7</td>\n",
       "      <td>1.3</td>\n",
       "      <td>...</td>\n",
       "      <td>54.0</td>\n",
       "      <td>1.7</td>\n",
       "      <td>15.8</td>\n",
       "      <td>1.0</td>\n",
       "      <td>6.4</td>\n",
       "      <td>0.6</td>\n",
       "      <td>41.9</td>\n",
       "      <td>1.8</td>\n",
       "      <td>2359</td>\n",
       "      <td>14.6</td>\n",
       "    </tr>\n",
       "  </tbody>\n",
       "</table>\n",
       "<p>5 rows × 24 columns</p>\n",
       "</div>"
      ],
      "text/plain": [
       "                      cd_name  cd_number borough  pct_foreign_born  \\\n",
       "0  Bronx Community District 1        201   Bronx              29.3   \n",
       "1  Bronx Community District 2        202   Bronx              34.6   \n",
       "2  Bronx Community District 3        203   Bronx              31.7   \n",
       "3  Bronx Community District 6        206   Bronx              32.6   \n",
       "4  Bronx Community District 4        204   Bronx              42.7   \n",
       "\n",
       "   moe_foreign_born  lep_rate  moe_lep_rate  pct_white_nh  pct_black_nh  \\\n",
       "0               1.6      29.5           1.6           2.1          28.8   \n",
       "1               1.8      30.6           1.8           1.9          28.4   \n",
       "2               1.3      25.9           1.3           1.2          35.8   \n",
       "3               1.5      27.5           1.5           6.1          27.0   \n",
       "4               1.3      35.8           1.4           1.9          28.7   \n",
       "\n",
       "   pct_asian_nh  ...  pct_hh_rent_burd  moe_hh_rent_burd  pct_bach_deg  \\\n",
       "0           0.5  ...              49.4               2.1          11.3   \n",
       "1           1.1  ...              53.8               2.5          14.2   \n",
       "2           0.8  ...              48.0               2.0          14.1   \n",
       "3           1.3  ...              55.1               2.0          12.6   \n",
       "4           1.3  ...              54.0               1.7          15.8   \n",
       "\n",
       "   moe_bach_deg  unemployment  moe_unemployment  mean_commute  \\\n",
       "0           1.0           6.4               0.8          42.5   \n",
       "1           1.2           6.4               0.8          44.9   \n",
       "2           1.1           6.6               0.7          43.9   \n",
       "3           1.1           8.4               0.8          44.4   \n",
       "4           1.0           6.4               0.6          41.9   \n",
       "\n",
       "   moe_mean_commute  crime_count  crime_per_1000  \n",
       "0               2.5         2205            21.7  \n",
       "1               2.9          864            12.3  \n",
       "2               2.6         1495            13.6  \n",
       "3               2.4         1312            12.0  \n",
       "4               1.8         2359            14.6  \n",
       "\n",
       "[5 rows x 24 columns]"
      ]
     },
     "execution_count": 6,
     "metadata": {},
     "output_type": "execute_result"
    }
   ],
   "source": [
    "cd_indicators.head()"
   ]
  },
  {
   "cell_type": "code",
   "execution_count": 9,
   "metadata": {},
   "outputs": [],
   "source": [
    "filtered_df = cd_indicators[cd_indicators['cd_number'] == 201]"
   ]
  },
  {
   "cell_type": "code",
   "execution_count": 20,
   "metadata": {},
   "outputs": [
    {
     "data": {
      "application/vnd.plotly.v1+json": {
       "config": {
        "plotlyServerURL": "https://plot.ly"
       },
       "data": [
        {
         "domain": {
          "column": 0,
          "row": 0
         },
         "mode": "number",
         "number": {
          "suffix": "%"
         },
         "title": {
          "text": "Foreign-Born Population<br><span style='font-size:0.6em;color:gray'>% of residents are foreign-born</span>"
         },
         "type": "indicator",
         "value": 29.3
        },
        {
         "domain": {
          "column": 1,
          "row": 0
         },
         "mode": "number",
         "number": {
          "suffix": "%"
         },
         "title": {
          "text": "Rent Burden<br><span style='font-size:0.6em;color:gray'>% of households spend 35%<br>or more of their income on rent</span>"
         },
         "type": "indicator",
         "value": 49.4
        },
        {
         "domain": {
          "column": 2,
          "row": 0
         },
         "mode": "number",
         "number": {
          "suffix": "min"
         },
         "title": {
          "text": "Mean Commute to Work<br><span style='font-size:0.6em;color:gray'>.</span>"
         },
         "type": "indicator",
         "value": 42.5
        },
        {
         "domain": {
          "column": 0,
          "row": 1
         },
         "mode": "number",
         "number": {
          "suffix": "%"
         },
         "title": {
          "text": "Limited English Proficiency<br><span style='font-size:0.6em;color:gray'>% of residents that self-identify as having limited English proficiency</span>"
         },
         "type": "indicator",
         "value": 29.5
        },
        {
         "domain": {
          "column": 1,
          "row": 1
         },
         "mode": "number",
         "number": {
          "suffix": "%"
         },
         "title": {
          "text": "Poverty Measure<br><span style='font-size:0.6em;color:gray'>% of residents have incomes below the NYCgov poverty threshold</span>"
         },
         "type": "indicator",
         "value": 32.3
        },
        {
         "domain": {
          "column": 2,
          "row": 1
         },
         "mode": "number",
         "number": {
          "suffix": "%"
         },
         "title": {
          "text": "Unemployment<br><span style='font-size:0.6em;color:gray'>% of residents that are unemployed</span>"
         },
         "type": "indicator",
         "value": 6.4
        }
       ],
       "layout": {
        "grid": {
         "columns": 3,
         "pattern": "independent",
         "rows": 3
        },
        "template": {
         "data": {
          "bar": [
           {
            "error_x": {
             "color": "#2a3f5f"
            },
            "error_y": {
             "color": "#2a3f5f"
            },
            "marker": {
             "line": {
              "color": "#E5ECF6",
              "width": 0.5
             },
             "pattern": {
              "fillmode": "overlay",
              "size": 10,
              "solidity": 0.2
             }
            },
            "type": "bar"
           }
          ],
          "barpolar": [
           {
            "marker": {
             "line": {
              "color": "#E5ECF6",
              "width": 0.5
             },
             "pattern": {
              "fillmode": "overlay",
              "size": 10,
              "solidity": 0.2
             }
            },
            "type": "barpolar"
           }
          ],
          "carpet": [
           {
            "aaxis": {
             "endlinecolor": "#2a3f5f",
             "gridcolor": "white",
             "linecolor": "white",
             "minorgridcolor": "white",
             "startlinecolor": "#2a3f5f"
            },
            "baxis": {
             "endlinecolor": "#2a3f5f",
             "gridcolor": "white",
             "linecolor": "white",
             "minorgridcolor": "white",
             "startlinecolor": "#2a3f5f"
            },
            "type": "carpet"
           }
          ],
          "choropleth": [
           {
            "colorbar": {
             "outlinewidth": 0,
             "ticks": ""
            },
            "type": "choropleth"
           }
          ],
          "contour": [
           {
            "colorbar": {
             "outlinewidth": 0,
             "ticks": ""
            },
            "colorscale": [
             [
              0,
              "#0d0887"
             ],
             [
              0.1111111111111111,
              "#46039f"
             ],
             [
              0.2222222222222222,
              "#7201a8"
             ],
             [
              0.3333333333333333,
              "#9c179e"
             ],
             [
              0.4444444444444444,
              "#bd3786"
             ],
             [
              0.5555555555555556,
              "#d8576b"
             ],
             [
              0.6666666666666666,
              "#ed7953"
             ],
             [
              0.7777777777777778,
              "#fb9f3a"
             ],
             [
              0.8888888888888888,
              "#fdca26"
             ],
             [
              1,
              "#f0f921"
             ]
            ],
            "type": "contour"
           }
          ],
          "contourcarpet": [
           {
            "colorbar": {
             "outlinewidth": 0,
             "ticks": ""
            },
            "type": "contourcarpet"
           }
          ],
          "heatmap": [
           {
            "colorbar": {
             "outlinewidth": 0,
             "ticks": ""
            },
            "colorscale": [
             [
              0,
              "#0d0887"
             ],
             [
              0.1111111111111111,
              "#46039f"
             ],
             [
              0.2222222222222222,
              "#7201a8"
             ],
             [
              0.3333333333333333,
              "#9c179e"
             ],
             [
              0.4444444444444444,
              "#bd3786"
             ],
             [
              0.5555555555555556,
              "#d8576b"
             ],
             [
              0.6666666666666666,
              "#ed7953"
             ],
             [
              0.7777777777777778,
              "#fb9f3a"
             ],
             [
              0.8888888888888888,
              "#fdca26"
             ],
             [
              1,
              "#f0f921"
             ]
            ],
            "type": "heatmap"
           }
          ],
          "heatmapgl": [
           {
            "colorbar": {
             "outlinewidth": 0,
             "ticks": ""
            },
            "colorscale": [
             [
              0,
              "#0d0887"
             ],
             [
              0.1111111111111111,
              "#46039f"
             ],
             [
              0.2222222222222222,
              "#7201a8"
             ],
             [
              0.3333333333333333,
              "#9c179e"
             ],
             [
              0.4444444444444444,
              "#bd3786"
             ],
             [
              0.5555555555555556,
              "#d8576b"
             ],
             [
              0.6666666666666666,
              "#ed7953"
             ],
             [
              0.7777777777777778,
              "#fb9f3a"
             ],
             [
              0.8888888888888888,
              "#fdca26"
             ],
             [
              1,
              "#f0f921"
             ]
            ],
            "type": "heatmapgl"
           }
          ],
          "histogram": [
           {
            "marker": {
             "pattern": {
              "fillmode": "overlay",
              "size": 10,
              "solidity": 0.2
             }
            },
            "type": "histogram"
           }
          ],
          "histogram2d": [
           {
            "colorbar": {
             "outlinewidth": 0,
             "ticks": ""
            },
            "colorscale": [
             [
              0,
              "#0d0887"
             ],
             [
              0.1111111111111111,
              "#46039f"
             ],
             [
              0.2222222222222222,
              "#7201a8"
             ],
             [
              0.3333333333333333,
              "#9c179e"
             ],
             [
              0.4444444444444444,
              "#bd3786"
             ],
             [
              0.5555555555555556,
              "#d8576b"
             ],
             [
              0.6666666666666666,
              "#ed7953"
             ],
             [
              0.7777777777777778,
              "#fb9f3a"
             ],
             [
              0.8888888888888888,
              "#fdca26"
             ],
             [
              1,
              "#f0f921"
             ]
            ],
            "type": "histogram2d"
           }
          ],
          "histogram2dcontour": [
           {
            "colorbar": {
             "outlinewidth": 0,
             "ticks": ""
            },
            "colorscale": [
             [
              0,
              "#0d0887"
             ],
             [
              0.1111111111111111,
              "#46039f"
             ],
             [
              0.2222222222222222,
              "#7201a8"
             ],
             [
              0.3333333333333333,
              "#9c179e"
             ],
             [
              0.4444444444444444,
              "#bd3786"
             ],
             [
              0.5555555555555556,
              "#d8576b"
             ],
             [
              0.6666666666666666,
              "#ed7953"
             ],
             [
              0.7777777777777778,
              "#fb9f3a"
             ],
             [
              0.8888888888888888,
              "#fdca26"
             ],
             [
              1,
              "#f0f921"
             ]
            ],
            "type": "histogram2dcontour"
           }
          ],
          "indicator": [
           {
            "delta": {
             "reference": 90
            },
            "mode": "number+delta+gauge",
            "title": {
             "text": "Speed"
            },
            "type": "indicator"
           }
          ],
          "mesh3d": [
           {
            "colorbar": {
             "outlinewidth": 0,
             "ticks": ""
            },
            "type": "mesh3d"
           }
          ],
          "parcoords": [
           {
            "line": {
             "colorbar": {
              "outlinewidth": 0,
              "ticks": ""
             }
            },
            "type": "parcoords"
           }
          ],
          "pie": [
           {
            "automargin": true,
            "type": "pie"
           }
          ],
          "scatter": [
           {
            "fillpattern": {
             "fillmode": "overlay",
             "size": 10,
             "solidity": 0.2
            },
            "type": "scatter"
           }
          ],
          "scatter3d": [
           {
            "line": {
             "colorbar": {
              "outlinewidth": 0,
              "ticks": ""
             }
            },
            "marker": {
             "colorbar": {
              "outlinewidth": 0,
              "ticks": ""
             }
            },
            "type": "scatter3d"
           }
          ],
          "scattercarpet": [
           {
            "marker": {
             "colorbar": {
              "outlinewidth": 0,
              "ticks": ""
             }
            },
            "type": "scattercarpet"
           }
          ],
          "scattergeo": [
           {
            "marker": {
             "colorbar": {
              "outlinewidth": 0,
              "ticks": ""
             }
            },
            "type": "scattergeo"
           }
          ],
          "scattergl": [
           {
            "marker": {
             "colorbar": {
              "outlinewidth": 0,
              "ticks": ""
             }
            },
            "type": "scattergl"
           }
          ],
          "scattermapbox": [
           {
            "marker": {
             "colorbar": {
              "outlinewidth": 0,
              "ticks": ""
             }
            },
            "type": "scattermapbox"
           }
          ],
          "scatterpolar": [
           {
            "marker": {
             "colorbar": {
              "outlinewidth": 0,
              "ticks": ""
             }
            },
            "type": "scatterpolar"
           }
          ],
          "scatterpolargl": [
           {
            "marker": {
             "colorbar": {
              "outlinewidth": 0,
              "ticks": ""
             }
            },
            "type": "scatterpolargl"
           }
          ],
          "scatterternary": [
           {
            "marker": {
             "colorbar": {
              "outlinewidth": 0,
              "ticks": ""
             }
            },
            "type": "scatterternary"
           }
          ],
          "surface": [
           {
            "colorbar": {
             "outlinewidth": 0,
             "ticks": ""
            },
            "colorscale": [
             [
              0,
              "#0d0887"
             ],
             [
              0.1111111111111111,
              "#46039f"
             ],
             [
              0.2222222222222222,
              "#7201a8"
             ],
             [
              0.3333333333333333,
              "#9c179e"
             ],
             [
              0.4444444444444444,
              "#bd3786"
             ],
             [
              0.5555555555555556,
              "#d8576b"
             ],
             [
              0.6666666666666666,
              "#ed7953"
             ],
             [
              0.7777777777777778,
              "#fb9f3a"
             ],
             [
              0.8888888888888888,
              "#fdca26"
             ],
             [
              1,
              "#f0f921"
             ]
            ],
            "type": "surface"
           }
          ],
          "table": [
           {
            "cells": {
             "fill": {
              "color": "#EBF0F8"
             },
             "line": {
              "color": "white"
             }
            },
            "header": {
             "fill": {
              "color": "#C8D4E3"
             },
             "line": {
              "color": "white"
             }
            },
            "type": "table"
           }
          ]
         },
         "layout": {
          "annotationdefaults": {
           "arrowcolor": "#2a3f5f",
           "arrowhead": 0,
           "arrowwidth": 1
          },
          "autotypenumbers": "strict",
          "coloraxis": {
           "colorbar": {
            "outlinewidth": 0,
            "ticks": ""
           }
          },
          "colorscale": {
           "diverging": [
            [
             0,
             "#8e0152"
            ],
            [
             0.1,
             "#c51b7d"
            ],
            [
             0.2,
             "#de77ae"
            ],
            [
             0.3,
             "#f1b6da"
            ],
            [
             0.4,
             "#fde0ef"
            ],
            [
             0.5,
             "#f7f7f7"
            ],
            [
             0.6,
             "#e6f5d0"
            ],
            [
             0.7,
             "#b8e186"
            ],
            [
             0.8,
             "#7fbc41"
            ],
            [
             0.9,
             "#4d9221"
            ],
            [
             1,
             "#276419"
            ]
           ],
           "sequential": [
            [
             0,
             "#0d0887"
            ],
            [
             0.1111111111111111,
             "#46039f"
            ],
            [
             0.2222222222222222,
             "#7201a8"
            ],
            [
             0.3333333333333333,
             "#9c179e"
            ],
            [
             0.4444444444444444,
             "#bd3786"
            ],
            [
             0.5555555555555556,
             "#d8576b"
            ],
            [
             0.6666666666666666,
             "#ed7953"
            ],
            [
             0.7777777777777778,
             "#fb9f3a"
            ],
            [
             0.8888888888888888,
             "#fdca26"
            ],
            [
             1,
             "#f0f921"
            ]
           ],
           "sequentialminus": [
            [
             0,
             "#0d0887"
            ],
            [
             0.1111111111111111,
             "#46039f"
            ],
            [
             0.2222222222222222,
             "#7201a8"
            ],
            [
             0.3333333333333333,
             "#9c179e"
            ],
            [
             0.4444444444444444,
             "#bd3786"
            ],
            [
             0.5555555555555556,
             "#d8576b"
            ],
            [
             0.6666666666666666,
             "#ed7953"
            ],
            [
             0.7777777777777778,
             "#fb9f3a"
            ],
            [
             0.8888888888888888,
             "#fdca26"
            ],
            [
             1,
             "#f0f921"
            ]
           ]
          },
          "colorway": [
           "#636efa",
           "#EF553B",
           "#00cc96",
           "#ab63fa",
           "#FFA15A",
           "#19d3f3",
           "#FF6692",
           "#B6E880",
           "#FF97FF",
           "#FECB52"
          ],
          "font": {
           "color": "#2a3f5f"
          },
          "geo": {
           "bgcolor": "white",
           "lakecolor": "white",
           "landcolor": "#E5ECF6",
           "showlakes": true,
           "showland": true,
           "subunitcolor": "white"
          },
          "hoverlabel": {
           "align": "left"
          },
          "hovermode": "closest",
          "mapbox": {
           "style": "light"
          },
          "paper_bgcolor": "white",
          "plot_bgcolor": "#E5ECF6",
          "polar": {
           "angularaxis": {
            "gridcolor": "white",
            "linecolor": "white",
            "ticks": ""
           },
           "bgcolor": "#E5ECF6",
           "radialaxis": {
            "gridcolor": "white",
            "linecolor": "white",
            "ticks": ""
           }
          },
          "scene": {
           "xaxis": {
            "backgroundcolor": "#E5ECF6",
            "gridcolor": "white",
            "gridwidth": 2,
            "linecolor": "white",
            "showbackground": true,
            "ticks": "",
            "zerolinecolor": "white"
           },
           "yaxis": {
            "backgroundcolor": "#E5ECF6",
            "gridcolor": "white",
            "gridwidth": 2,
            "linecolor": "white",
            "showbackground": true,
            "ticks": "",
            "zerolinecolor": "white"
           },
           "zaxis": {
            "backgroundcolor": "#E5ECF6",
            "gridcolor": "white",
            "gridwidth": 2,
            "linecolor": "white",
            "showbackground": true,
            "ticks": "",
            "zerolinecolor": "white"
           }
          },
          "shapedefaults": {
           "line": {
            "color": "#2a3f5f"
           }
          },
          "ternary": {
           "aaxis": {
            "gridcolor": "white",
            "linecolor": "white",
            "ticks": ""
           },
           "baxis": {
            "gridcolor": "white",
            "linecolor": "white",
            "ticks": ""
           },
           "bgcolor": "#E5ECF6",
           "caxis": {
            "gridcolor": "white",
            "linecolor": "white",
            "ticks": ""
           }
          },
          "title": {
           "x": 0.05
          },
          "xaxis": {
           "automargin": true,
           "gridcolor": "white",
           "linecolor": "white",
           "ticks": "",
           "title": {
            "standoff": 15
           },
           "zerolinecolor": "white",
           "zerolinewidth": 2
          },
          "yaxis": {
           "automargin": true,
           "gridcolor": "white",
           "linecolor": "white",
           "ticks": "",
           "title": {
            "standoff": 15
           },
           "zerolinecolor": "white",
           "zerolinewidth": 2
          }
         }
        }
       }
      }
     },
     "metadata": {},
     "output_type": "display_data"
    }
   ],
   "source": [
    "import plotly.graph_objects as go\n",
    "\n",
    "fig = go.Figure()\n",
    "\n",
    "fig.add_trace(go.Indicator(\n",
    "    title = {\"text\": \"Foreign-Born Population<br><span style='font-size:0.6em;color:gray'>% of residents are foreign-born</span>\"},\n",
    "    mode = \"number\",\n",
    "    number = {'suffix': \"%\"},\n",
    "    value = filtered_df['pct_foreign_born'].values[0],\n",
    "    domain = {'row': 0, 'column': 0}))\n",
    "\n",
    "fig.add_trace(go.Indicator(\n",
    "    title = {\"text\": \"Rent Burden<br><span style='font-size:0.6em;color:gray'>% of households spend 35%<br>or more of their income on rent</span>\"},\n",
    "    mode = \"number\",\n",
    "    number = {'suffix': \"%\"},\n",
    "    value = filtered_df['pct_hh_rent_burd'].values[0],\n",
    "    domain = {'row': 0, 'column': 1}))\n",
    "\n",
    "fig.add_trace(go.Indicator(\n",
    "    title = {\"text\": \"Mean Commute to Work<br><span style='font-size:0.6em;color:gray'>.</span>\"},\n",
    "    mode = \"number\",\n",
    "    number = {'suffix': \"min\"},\n",
    "    value = filtered_df['mean_commute'].values[0],\n",
    "    domain = {'row': 0, 'column': 2}))\n",
    "\n",
    "fig.add_trace(go.Indicator(\n",
    "    title = {\"text\": \"Limited English Proficiency<br><span style='font-size:0.6em;color:gray'>% of residents that self-identify as having limited English proficiency</span>\"},\n",
    "    mode = \"number\",\n",
    "    number = {'suffix': \"%\"},\n",
    "    value = filtered_df['lep_rate'].values[0],\n",
    "    domain = {'row': 1, 'column': 0}))\n",
    "\n",
    "fig.add_trace(go.Indicator(\n",
    "    title = {\"text\": \"Poverty Measure<br><span style='font-size:0.6em;color:gray'>% of residents have incomes below the NYCgov poverty threshold</span>\"},\n",
    "    mode = \"number\",\n",
    "    number = {'suffix': \"%\"},\n",
    "    value = filtered_df['poverty_rate'].values[0],\n",
    "    domain = {'row': 1, 'column': 1}))\n",
    "\n",
    "fig.add_trace(go.Indicator(\n",
    "    title = {\"text\": \"Unemployment<br><span style='font-size:0.6em;color:gray'>% of residents that are unemployed</span>\"},\n",
    "    mode = \"number\",\n",
    "    number = {'suffix': \"%\"},\n",
    "    value = filtered_df['unemployment'].values[0],\n",
    "    domain = {'row': 1, 'column': 2}))\n",
    "\n",
    "fig.update_layout(\n",
    "    grid = {'rows': 3, 'columns': 3, 'pattern': \"independent\"},\n",
    "    template = {'data' : {'indicator': [{\n",
    "        'title': {'text': \"Speed\"},\n",
    "        'mode' : \"number+delta+gauge\",\n",
    "        'delta' : {'reference': 90}}]\n",
    "                         }},    \n",
    "    )"
   ]
  },
  {
   "cell_type": "code",
   "execution_count": null,
   "metadata": {},
   "outputs": [],
   "source": []
  }
 ],
 "metadata": {
  "kernelspec": {
   "display_name": ".venv",
   "language": "python",
   "name": "python3"
  },
  "language_info": {
   "codemirror_mode": {
    "name": "ipython",
    "version": 3
   },
   "file_extension": ".py",
   "mimetype": "text/x-python",
   "name": "python",
   "nbconvert_exporter": "python",
   "pygments_lexer": "ipython3",
   "version": "3.10.6"
  },
  "orig_nbformat": 4
 },
 "nbformat": 4,
 "nbformat_minor": 2
}
